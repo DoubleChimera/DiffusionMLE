{
 "cells": [
  {
   "cell_type": "code",
   "execution_count": null,
   "metadata": {},
   "outputs": [],
   "source": [
    "using DiffusionMLE, Plots, PyCall, CSV, DataFrames, HDF5"
   ]
  },
  {
   "cell_type": "markdown",
   "metadata": {},
   "source": [
    "# Introduction"
   ]
  },
  {
   "cell_type": "markdown",
   "metadata": {},
   "source": [
    "This is a minimal example on how to apply our maximum likelihood estimator to a set of homogeneous single-particle tracking data.  Here, \"homogeneous\" refers to the fact that the underlying diffusive dynamics is the same for all trajectories.  \n",
    "\n",
    "For more details on the theoretical framework, please refer to the associated preprint:\n",
    "> J. T. Bullerjahn and G. Hummer, \"Maximum likelihood estimates of diffusion coefficients from single-molecule tracking experiments\", https://arxiv.org/abs/2011.09955"
   ]
  },
  {
   "cell_type": "markdown",
   "metadata": {},
   "source": [
    "# Generate trajectories"
   ]
  },
  {
   "cell_type": "markdown",
   "metadata": {},
   "source": [
    "Each trajectory can be seen as a $d$-dimensional array (<code>Array{Float64,2}</code>), so the data set should be of the type <code>Array{Array{Float64,2},1}</code>.  \n",
    "\n",
    "Here, we generate mock data, made up of $M$ $d$-dimensional trajectories of different lengths $N = \\{N_{1}, N_{2}, \\dots, N_{M}\\}$.  The $N_{i}$ are distributed uniformly on the interval $[3,100]$.  "
   ]
  },
  {
   "cell_type": "code",
   "execution_count": null,
   "metadata": {},
   "outputs": [],
   "source": [
    "include(\"smeared_trajectory_integrator.jl\")\r\n",
    "\r\n",
    "const M = 2 # Number of trajectories\r\n",
    "const d = 2 # Dimension of trajectories\r\n",
    "\r\n",
    "const N_sub = 100 # Number of substeps over which the trajectory is smeared out\r\n",
    "\r\n",
    "N = [ rand(3:5) for i = 1 : M ] # Array of trajectory lengths\r\n",
    "\r\n",
    "const a2 = 1.2\r\n",
    "const σ2 = 2.3\r\n",
    "\r\n",
    "B = [1/6 for m = 1 : M] # Array of blurring coefficients, where we have assumed a uniform illumination profile\r\n",
    "data = make_2D_data(N,N_sub,a2,σ2); # Mock data set"
   ]
  },
  {
   "cell_type": "code",
   "execution_count": null,
   "metadata": {},
   "outputs": [],
   "source": [
    "# Import some test trajectories...\r\n",
    "tester = raw\"C:\\Users\\User\\OneDrive\\Documents\\Python Programs\\Piezo1_MLE\\Trajectory_CSVs\\tdTomato_Mobile\\tdTomato_37Degree_mobile.csv\"\r\n",
    "test_data = CSV.read(tester, DataFrame);\r\n",
    "trackIDs = unique(test_data, :ID).ID;"
   ]
  },
  {
   "cell_type": "code",
   "execution_count": null,
   "metadata": {},
   "outputs": [],
   "source": [
    "function load_traj_csv(raw_csv_file_path)\r\n",
    "    csv_data = CSV.read(raw_csv_file_path, DataFrame)\r\n",
    "    csv_data = dropmissing(csv_data)\r\n",
    "    trackIDs = unique(csv_data, :ID).ID\r\n",
    "    trk_count = length(trackIDs)\r\n",
    "    B_values = [1/6 for m = 1 : trk_count]\r\n",
    "    sing_cond_tracks = Array{Array{Float64,2},1}(undef, trk_count)\r\n",
    "    n = 0\r\n",
    "    for i in trackIDs\r\n",
    "        n += 1\r\n",
    "        indiv_track = csv_data[in([i]).(csv_data.ID), :]\r\n",
    "        sing_cond_tracks[n] = Array(indiv_track[:, [:X, :Y]])\r\n",
    "    end\r\n",
    "    return sing_cond_tracks, B_values\r\n",
    "end"
   ]
  },
  {
   "cell_type": "code",
   "execution_count": null,
   "metadata": {},
   "outputs": [],
   "source": [
    "try1, B_values = load_traj_csv(tester);"
   ]
  },
  {
   "cell_type": "markdown",
   "metadata": {},
   "source": [
    "# Analyzing the data"
   ]
  },
  {
   "cell_type": "markdown",
   "metadata": {},
   "source": [
    "### Parameter estimation"
   ]
  },
  {
   "cell_type": "code",
   "execution_count": null,
   "metadata": {
    "scrolled": true
   },
   "outputs": [],
   "source": [
    "parameters = MLE_estimator(B_values,try1)\r\n",
    "uncertainties = MLE_errors(B_values,try1,parameters)\r\n",
    "\r\n",
    "println(\"Estimates:\")\r\n",
    "println(string(\"a2 = \", parameters[1], \" ± \", uncertainties[1]))\r\n",
    "println(string(\"σ2 = \",parameters[2], \" ± \", uncertainties[2]))\r\n",
    "\r\n",
    "println()\r\n",
    "\r\n",
    "# println(\"Ground truth:\")\r\n",
    "# println(string(\"a2 = \", a2))\r\n",
    "# println(string(\"σ2 = \", σ2))"
   ]
  },
  {
   "cell_type": "markdown",
   "metadata": {},
   "source": [
    "### Diffusion coefficients"
   ]
  },
  {
   "cell_type": "markdown",
   "metadata": {},
   "source": [
    "Diffusion coefficients can be extracted from the $\\sigma^2$-values, irrespective of the dimension $d$, as follows:\r\n",
    "$\\begin{equation*}\r\n",
    "D = \\frac{\\sigma^2}{2 \\Delta t} \\, .  \r\n",
    "\\end{equation*}$\r\n",
    "Here, $\\sigma$ has the same dimension as the data, i.e., if the trajectories are recorded on the nanometer scale then $[\\sigma] = \\textrm{nm}$, and $\\Delta t$ denotes the time step between two observations.  "
   ]
  },
  {
   "cell_type": "markdown",
   "metadata": {},
   "source": [
    "# Testing model assumptions"
   ]
  },
  {
   "cell_type": "markdown",
   "metadata": {},
   "source": [
    "We have assumed that the data are homogeneous.  To test this and other assumptions of our diffusion model (Gaussianity, structure of covariance matrix, etc.), we perform a quality factor analysis:"
   ]
  },
  {
   "cell_type": "code",
   "execution_count": null,
   "metadata": {},
   "outputs": [],
   "source": [
    "Q = Q_factor_analysis(B_values,try1,parameters)\r\n",
    "\r\n",
    "println(\"Kuiper statistic:\")\r\n",
    "println(string(\"κ = \", Kuiper_statistic!(Q)))\r\n",
    "\r\n",
    "Plots.histogram(Q, normed=true, legend=false,\r\n",
    "    xlabel=\"quality factor Q\",\r\n",
    "    ylabel=\"probability distribution function p(Q)\",\r\n",
    "    title=\"Survival of the Fittest\")"
   ]
  },
  {
   "cell_type": "markdown",
   "metadata": {},
   "source": [
    "The uniform distribution of the quality factors, as well as the fact that the Kuiper statistic evaluates close to unity, indicate that the assumptions underlying the model are satisfied.  This is, of course, not very surprising, because the mock data was generated with said assumptions in mind.  "
   ]
  }
 ],
 "metadata": {
  "kernelspec": {
   "display_name": "Julia 1.6.1",
   "language": "julia",
   "name": "julia-1.6"
  },
  "language_info": {
   "file_extension": ".jl",
   "mimetype": "application/julia",
   "name": "julia",
   "version": "1.6.1"
  },
  "orig_nbformat": 3
 },
 "nbformat": 4,
 "nbformat_minor": 4
}