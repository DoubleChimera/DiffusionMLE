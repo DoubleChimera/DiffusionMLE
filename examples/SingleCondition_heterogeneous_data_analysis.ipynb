{
 "cells": [
  {
   "cell_type": "code",
   "execution_count": 10,
   "source": [
    "using DiffusionMLE, Plots, CSV, DataFrames"
   ],
   "outputs": [],
   "metadata": {}
  },
  {
   "cell_type": "markdown",
   "source": [
    "# Introduction"
   ],
   "metadata": {}
  },
  {
   "cell_type": "markdown",
   "source": [
    "This is a minimal example on how to apply our maximum likelihood estimator to a set of heterogeneous single-particle tracking data.  Here, \"heterogeneous\" refers to the fact that the data originate from subpopulations with differing diffusion coefficients.  \n",
    "\n",
    "The code relevant for the analysis of heterogeneous data exploits threading, so it is recommended to run the command <code>export JULIA_NUM_THREADS=n</code>, with <code>n</code> being the number of available (physical) cores, before launching Julia.  This speeds up the numerics significantly.  \n",
    "\n",
    "For more details on the theoretical framework, please refer to the associated preprint:\n",
    "> J. T. Bullerjahn and G. Hummer, \"Maximum likelihood estimates of diffusion coefficients from single-molecule tracking experiments\", https://arxiv.org/abs/2011.09955"
   ],
   "metadata": {}
  },
  {
   "cell_type": "markdown",
   "source": [
    "# Generate trajectories"
   ],
   "metadata": {}
  },
  {
   "cell_type": "markdown",
   "source": [
    "Each trajectory can be seen as a $d$-dimensional array (<code>Array{Float64,2}</code>), so the data set should be of the type <code>Array{Array{Float64,2},1}</code>.  \n",
    "\n",
    "Here, we generate mock data, made up of $M$ $d$-dimensional trajectories of different lengths $N = \\{N_{1}, N_{2}, \\dots, N_{M}\\}$.  The $N_{i}$ are distributed uniformly on the interval $[3,100]$.  The data form a $3:4:3$-mixture of trajectories generated using three distinct diffusive dynamics.  "
   ],
   "metadata": {}
  },
  {
   "cell_type": "code",
   "execution_count": 11,
   "source": [
    "include(\"smeared_trajectory_integrator.jl\")\r\n",
    "\r\n",
    "const M = 1000 # Number of trajectories\r\n",
    "const d = 2 # Dimension of trajectories\r\n",
    "\r\n",
    "const N_sub = 100 # Number of substeps over which the trajectory is smeared out\r\n",
    "\r\n",
    "N = [ rand(3:100) for i = 1 : M ] # Array of trajectory lengths\r\n",
    "\r\n",
    "# Consider three subpopulations, characterized by the following parameters:\r\n",
    "const a2_1 = 0.5\r\n",
    "const a2_2 = 2.0\r\n",
    "const a2_3 = 1.0\r\n",
    "const σ2_1 = 0.1\r\n",
    "const σ2_2 = 1.0\r\n",
    "const σ2_3 = 10.0\r\n",
    "\r\n",
    "B = [1/6 for m = 1 : M] # Array of blurring coefficients, where we have assumed a uniform illumination profile\r\n",
    "data = vcat([make_2D_data(N[1:300],N_sub,a2_1,σ2_1), \r\n",
    "        make_2D_data(N[301:700],N_sub,a2_2,σ2_2), \r\n",
    "        make_2D_data(N[701:1000],N_sub,a2_3,σ2_3)]...); # Mock data set"
   ],
   "outputs": [],
   "metadata": {}
  },
  {
   "cell_type": "code",
   "execution_count": 12,
   "source": [
    "data"
   ],
   "outputs": [
    {
     "output_type": "execute_result",
     "data": {
      "text/plain": [
       "1000-element Vector{Matrix{Float64}}:\n",
       " [-0.2736163995431172 -0.1051718290530699; 0.6901288696997122 0.3147046597626799; … ; -2.347536267704408 0.055304819967828656; -2.7614535527513286 0.9422712899779128]\n",
       " [-1.3037952816421163 -0.29468370522319104; -0.009267630101953694 0.3274137529640758; … ; -2.2376475726472567 1.0429062450539375; -2.8612811665292486 2.3267783782343114]\n",
       " [0.3736276550905896 -0.059092790795147204; 0.1832232704626353 0.5118552260924379; … ; 0.6092474679139155 -1.16079583387254; 2.1743026537666688 -2.1474865636644784]\n",
       " [0.5131811856209378 0.590995385688467; -1.089961868164944 0.18991258014241835; … ; 1.408067717332138 -2.4741242811541158; -0.03716754406179179 -1.0049443802102367]\n",
       " [-0.46239810048082797 0.44377733109220413; 0.45175453907527735 0.6596492196997534; … ; -2.5706817603129326 -3.798563172454653; -1.617248969201795 -5.476045357861952]\n",
       " [0.866764410096566 -0.06448318173730758; 0.07154860467952384 -0.2715606020949213; … ; -1.5306619657629024 0.4344854694021183; -1.4118056339559466 2.198243155925389]\n",
       " [-0.8375193893714377 -0.19458035812011593; 0.23009393074384632 -0.013546400323030283; … ; 5.920894507818168 2.4288130438109703; 6.121629684054472 1.3963067212411497]\n",
       " [0.10609508746757867 -0.2883188064162486; -0.08373974459378125 -0.02167398377666424; … ; -0.7174509228563544 2.3061330608382904; -2.547495465684607 1.00451287334459]\n",
       " [-0.2039486326229214 0.3824129393107972; 0.37784723679709686 0.34523525721383713; … ; 0.4056790658536955 -1.4271711625751233; -0.5865116829634925 -2.114325864685516]\n",
       " [0.08520609910322281 0.8157132495839119; 0.36796029773529165 0.3622366127881871; … ; -2.727552706922271 0.5783088684970974; -2.0047567583222548 -0.08131159106573371]\n",
       " [-0.30479982056825833 0.7878681125922083; -1.3942976095238258 -0.21706113197182514; … ; 0.2635876895426843 -0.3245229727371763; -0.08532030002828361 -0.6071564687668808]\n",
       " [-0.5601180895237396 -0.47134465004487136; -0.27946432748034505 -0.7770363636134884; … ; 7.663788751712119 1.6649330190295002; 8.165320409953784 1.0857476483441892]\n",
       " [-0.4046226113652975 -0.35493298522170197; 0.0376510142062402 -0.8796236746683457; … ; 2.195076041074603 1.599791361570328; 1.9203440750290293 1.6377294706440706]\n",
       " ⋮\n",
       " [-0.7098393674061333 1.1205280320254012; -1.6531944905363574 0.6346323562349091; … ; 1.9339340787873174 -8.452256797789504; 4.5276237733919675 -11.73197185563542]\n",
       " [-1.6438898326543305 -1.9203578150489657; -0.2886690063872352 2.6785052993662264; … ; 38.314668951023634 -18.840606200290154; 38.41083738167532 -16.25884038939566]\n",
       " [0.45460913745317105 -0.8634576795061182; 4.7137802117873795 -4.4077524297547095; … ; 16.047301991317536 6.9416147666961585; 18.122976793021408 2.7163713196050048]\n",
       " [-1.2547738423840267 -2.5438689764706623; -1.7893256120273784 -4.66092764506264; … ; -5.651889693257718 -9.721985046203523; -1.7598489921664182 -4.618744907625811]\n",
       " [1.394846999798773 0.11360717636809946; 3.020357120813473 -1.0702688251033967; … ; -5.343114212717275 9.851211801280822; -7.9361301021937996 8.623416905035683]\n",
       " [0.11171064892387211 -3.1517594233602377; 0.5165941551170168 -5.577721052748282; … ; 13.227977051379474 -1.574316086591093; 12.743490711667514 -2.494583791087325]\n",
       " [-0.06408806260860966 4.540903663407494; 0.6881775662546463 6.959143296625016; … ; 1.5284444356071822 -19.37317160965746; -0.7009946272095329 -20.403561304278124]\n",
       " [-2.671649125820789 -0.540550286608148; -0.8221905290439357 -0.04299862901648788; … ; -3.9326717311394646 5.8545597809428624; -2.725892966413137 2.6063195285885437]\n",
       " [3.533574457585404 0.8011995845272888; 10.368783037961725 -1.6616931290261252; … ; 16.835703561664126 9.269463944463688; 13.670406605731735 13.477797335201503]\n",
       " [1.2321685571846026 -2.737001929840483; 0.01754595539638429 -5.119953944150876; … ; -7.59414240776 -12.587065817240498; -6.276256456929473 -14.199999796506873]\n",
       " [-1.085262266669864 0.10682979452828967; -4.184735075430216 0.9548364481385754; … ; -30.293621037345044 17.524661725735715; -30.905022306286092 18.171072712191283]\n",
       " [2.107038708666601 -1.3761408772466934; 6.264922362082133 -4.363034051594919; … ; 18.63980268518092 8.623973281790065; 15.482048815622216 13.005404151319048]"
      ]
     },
     "metadata": {},
     "execution_count": 12
    }
   ],
   "metadata": {}
  },
  {
   "cell_type": "markdown",
   "source": [
    "# Analyzing the data"
   ],
   "metadata": {}
  },
  {
   "cell_type": "code",
   "execution_count": 2,
   "source": [
    "function print_results(estimates,uncertainties)\r\n",
    "    K = size(estimates,2)\r\n",
    "    for k = 1 : K\r\n",
    "        println(string(\"a2_\", k, \" = \", estimates[1,k], \" ± \", uncertainties[1,k]))\r\n",
    "    end\r\n",
    "    for k = 1 : K\r\n",
    "        println(string(\"σ2_\", k, \" = \", estimates[2,k], \" ± \", uncertainties[2,k]))\r\n",
    "    end\r\n",
    "    for k = 1 : K\r\n",
    "        println(string(\"P_\", k, \" = \", estimates[3,k]))\r\n",
    "    end\r\n",
    "end\r\n",
    "\r\n",
    "const N_local = 1000 # Max number of expectation-maximization cycles\r\n",
    "const N_global = 200 # Number of iterations with different initial parameters\r\n",
    "\r\n",
    "# Ranges from which the initial values for the parameters are drawn:\r\n",
    "a2_range = [ 0.000001, 1000. ]\r\n",
    "σ2_range = [ 0.000001, 1000. ];"
   ],
   "outputs": [],
   "metadata": {}
  },
  {
   "cell_type": "markdown",
   "source": [
    "### Available cores for threading"
   ],
   "metadata": {}
  },
  {
   "cell_type": "code",
   "execution_count": 3,
   "source": [
    "using Base.Threads\r\n",
    "println(string(\"Number of available cores for threading: \", nthreads()))"
   ],
   "outputs": [
    {
     "output_type": "stream",
     "name": "stdout",
     "text": [
      "Number of available cores for threading: 1\n"
     ]
    }
   ],
   "metadata": {}
  },
  {
   "cell_type": "markdown",
   "source": [
    "### Assuming a single population"
   ],
   "metadata": {}
  },
  {
   "cell_type": "code",
   "execution_count": null,
   "source": [
    "parameters = MLE_estimator(B,data)\r\n",
    "parameter_matrix = reshape(vcat([parameters,[1.0]]...), 3, 1)\r\n",
    "P1_estimates, P1_L, P1_T = local_EM_estimator!(d,M,1,N_local,parameter_matrix,B,data)\r\n",
    "P1_uncertainties = MLE_errors(B,data,parameters)\r\n",
    "\r\n",
    "println(\"Estimates:\")\r\n",
    "print_results(P1_estimates,P1_uncertainties)\r\n",
    "\r\n",
    "Q_sub = subpopulation_analysis(P1_T,P1_estimates,B,data)\r\n",
    "Q = vcat(Q_sub...)\r\n",
    "\r\n",
    "println()\r\n",
    "\r\n",
    "println(\"Kuiper statistic:\")\r\n",
    "println(\"κ = \",Kuiper_statistic!(Q))\r\n",
    "\r\n",
    "histogram(Q, normed=true, legend=false, \r\n",
    "    xlabel=\"quality factor Q\", \r\n",
    "    ylabel=\"probability distribution function p(Q)\")"
   ],
   "outputs": [],
   "metadata": {}
  },
  {
   "cell_type": "markdown",
   "source": [
    "The distribution of quality factors, which should be uniform, and the associated Kuiper statistic reveal that a single-population model does not suffice.  "
   ],
   "metadata": {}
  },
  {
   "cell_type": "markdown",
   "source": [
    "### Assuming two subpopulations"
   ],
   "metadata": {}
  },
  {
   "cell_type": "code",
   "execution_count": null,
   "source": [
    "P2_estimates, P2_L, P2_T = global_EM_estimator(2,N_local,N_global,a2_range,σ2_range,B,data);"
   ],
   "outputs": [],
   "metadata": {
    "scrolled": true
   }
  },
  {
   "cell_type": "code",
   "execution_count": null,
   "source": [
    "B_sub, X_sub = sort_trajectories(2,P2_T,B,data)\r\n",
    "P2_uncertainties = hcat([ MLE_errors(B_sub[k], X_sub[k], P2_estimates[1:2,k]) for k = 1 : 2 ]...)\r\n",
    "\r\n",
    "println(\"Estimates:\")\r\n",
    "print_results(P2_estimates,P2_uncertainties)\r\n",
    "\r\n",
    "Q_sub = subpopulation_analysis(P2_T,P2_estimates,B,data)\r\n",
    "Q = vcat(Q_sub...)\r\n",
    "\r\n",
    "println()\r\n",
    "\r\n",
    "println(\"Kuiper statistic:\")\r\n",
    "println(\"K=\",Kuiper_statistic!(Q))\r\n",
    "\r\n",
    "histogram(Q, normed=true, legend=false, bins=10,\r\n",
    "    xlabel=\"quality factor Q\", \r\n",
    "    ylabel=\"probability distribution function p(Q)\")"
   ],
   "outputs": [],
   "metadata": {
    "scrolled": false
   }
  },
  {
   "cell_type": "markdown",
   "source": [
    "The Kuiper statistic is slightly better, but overall a two-population model cannot explain the data.  "
   ],
   "metadata": {}
  },
  {
   "cell_type": "markdown",
   "source": [
    "### Assuming three subpopulations"
   ],
   "metadata": {}
  },
  {
   "cell_type": "code",
   "execution_count": null,
   "source": [
    "P3_estimates, P3_L, P3_T = global_EM_estimator(3,N_local,N_global,a2_range,σ2_range,B,data);"
   ],
   "outputs": [],
   "metadata": {
    "scrolled": true
   }
  },
  {
   "cell_type": "code",
   "execution_count": null,
   "source": [
    "B_sub, X_sub = sort_trajectories(3,P3_T,B,data)\r\n",
    "P3_uncertainties = hcat([ MLE_errors(B_sub[k], X_sub[k], P3_estimates[1:2,k]) for k = 1 : 3 ]...)\r\n",
    "\r\n",
    "println(\"Estimates:\")\r\n",
    "print_results(P3_estimates,P3_uncertainties)\r\n",
    "\r\n",
    "println()\r\n",
    "\r\n",
    "println(\"Ground truth (up to permutations):\")\r\n",
    "println(string(\"a2_1 = \", a2_1))\r\n",
    "println(string(\"a2_2 = \", a2_2))\r\n",
    "println(string(\"a2_3 = \", a2_3))\r\n",
    "println(string(\"σ2_1 = \", σ2_1))\r\n",
    "println(string(\"σ2_2 = \", σ2_2))\r\n",
    "println(string(\"σ2_3 = \", σ2_3))\r\n",
    "\r\n",
    "Q_sub = subpopulation_analysis(P3_T,P3_estimates,B,data)\r\n",
    "Q = vcat(Q_sub...)\r\n",
    "\r\n",
    "println()\r\n",
    "\r\n",
    "println(\"Kuiper statistic:\")\r\n",
    "println(\"K=\",Kuiper_statistic!(Q))\r\n",
    "\r\n",
    "histogram(Q, normed=true, legend=false,\r\n",
    "    xlabel=\"quality factor Q\", \r\n",
    "    ylabel=\"probability distribution function p(Q)\")"
   ],
   "outputs": [],
   "metadata": {
    "scrolled": false
   }
  },
  {
   "cell_type": "markdown",
   "source": [
    "The quality factors are uniformly distributed, and the Kuiper statistic evaluates close to unity for the three-population model.  "
   ],
   "metadata": {}
  },
  {
   "cell_type": "markdown",
   "source": [
    "### Diffusion coefficients"
   ],
   "metadata": {}
  },
  {
   "cell_type": "markdown",
   "source": [
    "Diffusion coefficients can be extracted from the $\\sigma^2$-values, irrespective of the dimension $d$, as follows:\n",
    "\\begin{equation*}\n",
    "D = \\frac{\\sigma^2}{2 \\Delta t} \\, .  \n",
    "\\end{equation*}\n",
    "Here, $\\sigma$ has the same dimension as the data, i.e., if the trajectories are recorded on the nanometer scale then $[\\sigma] = \\textrm{nm}$, and $\\Delta t$ denotes the time step between two observations.  "
   ],
   "metadata": {}
  },
  {
   "cell_type": "markdown",
   "source": [
    "### Assuming four subpopulations"
   ],
   "metadata": {}
  },
  {
   "cell_type": "code",
   "execution_count": null,
   "source": [
    "P4_estimates, P4_L, P4_T = global_EM_estimator(4,N_local,N_global,a2_range,σ2_range,B,data);"
   ],
   "outputs": [],
   "metadata": {}
  },
  {
   "cell_type": "code",
   "execution_count": null,
   "source": [
    "B_sub, X_sub = sort_trajectories(4,P4_T,B,data)\r\n",
    "P4_uncertainties = hcat([ MLE_errors(B_sub[k], X_sub[k], P4_estimates[1:2,k]) for k = 1 : 4 ]...)\r\n",
    "\r\n",
    "println(\"Estimates:\")\r\n",
    "print_results(P4_estimates,P4_uncertainties)\r\n",
    "\r\n",
    "println()\r\n",
    "\r\n",
    "println(\"Ground truth (up to permutations):\")\r\n",
    "println(string(\"a2_1 = \", a2_1))\r\n",
    "println(string(\"a2_2 = \", a2_2))\r\n",
    "println(string(\"a2_3 = \", a2_3))\r\n",
    "println(string(\"σ2_1 = \", σ2_1))\r\n",
    "println(string(\"σ2_2 = \", σ2_2))\r\n",
    "println(string(\"σ2_3 = \", σ2_3))\r\n",
    "\r\n",
    "Q_sub = subpopulation_analysis(P4_T,P4_estimates,B,data)\r\n",
    "Q = vcat(Q_sub...)\r\n",
    "\r\n",
    "println()\r\n",
    "\r\n",
    "println(\"Kuiper statistic:\")\r\n",
    "println(\"K=\",Kuiper_statistic!(Q))\r\n",
    "\r\n",
    "histogram(Q, normed=true, legend=false,\r\n",
    "    xlabel=\"quality factor Q\", \r\n",
    "    ylabel=\"probability distribution function p(Q)\")"
   ],
   "outputs": [],
   "metadata": {}
  },
  {
   "cell_type": "markdown",
   "source": [
    "# Assuming 5 subpops"
   ],
   "metadata": {}
  },
  {
   "cell_type": "code",
   "execution_count": null,
   "source": [
    "P6_estimates, P6_L, P6_T = global_EM_estimator(6,N_local,N_global,a2_range,σ2_range,B,data);"
   ],
   "outputs": [],
   "metadata": {}
  },
  {
   "cell_type": "code",
   "execution_count": null,
   "source": [
    "B_sub, X_sub = sort_trajectories(5,P5_T,B,data)\r\n",
    "P5_uncertainties = hcat([ MLE_errors(B_sub[k], X_sub[k], P4_estimates[1:2,k]) for k = 1 : 5 ]...)\r\n",
    "\r\n",
    "println(\"Estimates:\")\r\n",
    "print_results(P5_estimates,P5_uncertainties)\r\n",
    "\r\n",
    "println()\r\n",
    "\r\n",
    "println(\"Ground truth (up to permutations):\")\r\n",
    "println(string(\"a2_1 = \", a2_1))\r\n",
    "println(string(\"a2_2 = \", a2_2))\r\n",
    "println(string(\"a2_3 = \", a2_3))\r\n",
    "println(string(\"σ2_1 = \", σ2_1))\r\n",
    "println(string(\"σ2_2 = \", σ2_2))\r\n",
    "println(string(\"σ2_3 = \", σ2_3))\r\n",
    "\r\n",
    "Q_sub = subpopulation_analysis(P5_T,P5_estimates,B,data)\r\n",
    "Q = vcat(Q_sub...)\r\n",
    "\r\n",
    "println()\r\n",
    "\r\n",
    "println(\"Kuiper statistic:\")\r\n",
    "println(\"K=\",Kuiper_statistic!(Q))\r\n",
    "\r\n",
    "histogram(Q, normed=true, legend=false,\r\n",
    "    xlabel=\"quality factor Q\", \r\n",
    "    ylabel=\"probability distribution function p(Q)\")"
   ],
   "outputs": [],
   "metadata": {}
  },
  {
   "cell_type": "markdown",
   "source": [
    "# Below: Upload tdTomato_37Degree Mobile data"
   ],
   "metadata": {}
  },
  {
   "cell_type": "code",
   "execution_count": 4,
   "source": [
    "function load_traj_csv(raw_csv_file_path)\r\n",
    "    csv_data = CSV.read(raw_csv_file_path, DataFrame)\r\n",
    "    csv_data = dropmissing(csv_data)\r\n",
    "    trackIDs = unique(csv_data, :ID).ID\r\n",
    "    trk_count = length(trackIDs)\r\n",
    "    B_values = [1/6 for m = 1 : trk_count]\r\n",
    "    sing_cond_tracks = Array{Array{Float64,2},1}(undef, trk_count)\r\n",
    "    n = 0\r\n",
    "    for i in trackIDs\r\n",
    "        n += 1\r\n",
    "        indiv_track = csv_data[in([i]).(csv_data.ID), :]\r\n",
    "        sing_cond_tracks[n] = Array(indiv_track[:, [:X, :Y]])\r\n",
    "    end\r\n",
    "    return sing_cond_tracks, B_values\r\n",
    "end"
   ],
   "outputs": [
    {
     "output_type": "execute_result",
     "data": {
      "text/plain": [
       "load_traj_csv (generic function with 1 method)"
      ]
     },
     "metadata": {},
     "execution_count": 4
    }
   ],
   "metadata": {}
  },
  {
   "cell_type": "code",
   "execution_count": 5,
   "source": [
    "# Import some test trajectories...\r\n",
    "tester = raw\"C:\\Users\\User\\OneDrive\\Documents\\Python Programs\\Piezo1_MLE\\Trajectory_CSVs\\tdTomato_Mobile\\tdTomato_37Degree_mobile.csv\"\r\n",
    "test_data = CSV.read(tester, DataFrame);\r\n",
    "\r\n",
    "# Select just the tracks that have been re-zeroed\r\n",
    "test_data = test_data[test_data.ID .< 3000, :]\r\n",
    "\r\n",
    "trackIDs = unique(test_data, :ID).ID;"
   ],
   "outputs": [],
   "metadata": {}
  },
  {
   "cell_type": "code",
   "execution_count": 6,
   "source": [
    "mob_data, B_values = load_traj_csv(tester);"
   ],
   "outputs": [],
   "metadata": {}
  },
  {
   "cell_type": "code",
   "execution_count": 7,
   "source": [
    "PX_estimates, PX_L, PX_T = global_EM_estimator(3,N_local,N_global,a2_range,σ2_range,B_values,mob_data);"
   ],
   "outputs": [
    {
     "output_type": "stream",
     "name": "stderr",
     "text": [
      "┌ Warning: NaN detected\n",
      "└ @ DiffusionMLE c:\\Users\\User\\OneDrive\\Documents\\Python Programs\\Piezo1_MLE\\DiffusionMLE\\src\\em_functions.jl:176\n",
      "┌ Warning: NaN detected\n",
      "└ @ DiffusionMLE c:\\Users\\User\\OneDrive\\Documents\\Python Programs\\Piezo1_MLE\\DiffusionMLE\\src\\em_functions.jl:176\n",
      "\u001b[32mProgress:   1%|█                                        |  ETA: 0:07:53\u001b[39m┌ Warning: NaN detected\n",
      "└ @ DiffusionMLE c:\\Users\\User\\OneDrive\\Documents\\Python Programs\\Piezo1_MLE\\DiffusionMLE\\src\\em_functions.jl:176\n",
      "\u001b[32mProgress:   2%|█                                        |  ETA: 0:07:48\u001b[39m┌ Warning: NaN detected\n",
      "└ @ DiffusionMLE c:\\Users\\User\\OneDrive\\Documents\\Python Programs\\Piezo1_MLE\\DiffusionMLE\\src\\em_functions.jl:176\n",
      "\u001b[32mProgress:   2%|█                                        |  ETA: 0:07:21\u001b[39m┌ Warning: NaN detected\n",
      "└ @ DiffusionMLE c:\\Users\\User\\OneDrive\\Documents\\Python Programs\\Piezo1_MLE\\DiffusionMLE\\src\\em_functions.jl:176\n",
      "\u001b[32mProgress:   2%|██                                       |  ETA: 0:07:03\u001b[39m┌ Warning: NaN detected\n",
      "└ @ DiffusionMLE c:\\Users\\User\\OneDrive\\Documents\\Python Programs\\Piezo1_MLE\\DiffusionMLE\\src\\em_functions.jl:176\n",
      "\u001b[32mProgress:   3%|██                                       |  ETA: 0:06:51\u001b[39m┌ Warning: NaN detected\n",
      "└ @ DiffusionMLE c:\\Users\\User\\OneDrive\\Documents\\Python Programs\\Piezo1_MLE\\DiffusionMLE\\src\\em_functions.jl:176\n",
      "\u001b[32mProgress:   4%|██                                       |  ETA: 0:06:42\u001b[39m┌ Warning: NaN detected\n",
      "└ @ DiffusionMLE c:\\Users\\User\\OneDrive\\Documents\\Python Programs\\Piezo1_MLE\\DiffusionMLE\\src\\em_functions.jl:176\n",
      "\u001b[32mProgress:   4%|██                                       |  ETA: 0:06:34\u001b[39m┌ Warning: NaN detected\n",
      "└ @ DiffusionMLE c:\\Users\\User\\OneDrive\\Documents\\Python Programs\\Piezo1_MLE\\DiffusionMLE\\src\\em_functions.jl:176\n",
      "\u001b[32mProgress:   4%|██                                       |  ETA: 0:06:28\u001b[39m┌ Warning: NaN detected\n",
      "└ @ DiffusionMLE c:\\Users\\User\\OneDrive\\Documents\\Python Programs\\Piezo1_MLE\\DiffusionMLE\\src\\em_functions.jl:176\n",
      "\u001b[32mProgress:   5%|███                                      |  ETA: 0:06:23\u001b[39m┌ Warning: NaN detected\n",
      "└ @ DiffusionMLE c:\\Users\\User\\OneDrive\\Documents\\Python Programs\\Piezo1_MLE\\DiffusionMLE\\src\\em_functions.jl:176\n",
      "\u001b[32mProgress:   6%|███                                      |  ETA: 0:06:18\u001b[39m┌ Warning: NaN detected\n",
      "└ @ DiffusionMLE c:\\Users\\User\\OneDrive\\Documents\\Python Programs\\Piezo1_MLE\\DiffusionMLE\\src\\em_functions.jl:176\n",
      "\u001b[32mProgress:   6%|███                                      |  ETA: 0:06:14\u001b[39m┌ Warning: NaN detected\n",
      "└ @ DiffusionMLE c:\\Users\\User\\OneDrive\\Documents\\Python Programs\\Piezo1_MLE\\DiffusionMLE\\src\\em_functions.jl:176\n",
      "\u001b[32mProgress:   6%|███                                      |  ETA: 0:06:10\u001b[39m┌ Warning: NaN detected\n",
      "└ @ DiffusionMLE c:\\Users\\User\\OneDrive\\Documents\\Python Programs\\Piezo1_MLE\\DiffusionMLE\\src\\em_functions.jl:176\n",
      "\u001b[32mProgress:   7%|███                                      |  ETA: 0:06:06\u001b[39m┌ Warning: NaN detected\n",
      "└ @ DiffusionMLE c:\\Users\\User\\OneDrive\\Documents\\Python Programs\\Piezo1_MLE\\DiffusionMLE\\src\\em_functions.jl:176\n",
      "\u001b[32mProgress:   8%|████                                     |  ETA: 0:06:02\u001b[39m┌ Warning: NaN detected\n",
      "└ @ DiffusionMLE c:\\Users\\User\\OneDrive\\Documents\\Python Programs\\Piezo1_MLE\\DiffusionMLE\\src\\em_functions.jl:176\n",
      "\u001b[32mProgress:   8%|████                                     |  ETA: 0:05:59\u001b[39m┌ Warning: NaN detected\n",
      "└ @ DiffusionMLE c:\\Users\\User\\OneDrive\\Documents\\Python Programs\\Piezo1_MLE\\DiffusionMLE\\src\\em_functions.jl:176\n",
      "\u001b[32mProgress:   8%|████                                     |  ETA: 0:05:56\u001b[39m┌ Warning: NaN detected\n",
      "└ @ DiffusionMLE c:\\Users\\User\\OneDrive\\Documents\\Python Programs\\Piezo1_MLE\\DiffusionMLE\\src\\em_functions.jl:176\n",
      "\u001b[32mProgress:   9%|████                                     |  ETA: 0:05:53\u001b[39m┌ Warning: NaN detected\n",
      "└ @ DiffusionMLE c:\\Users\\User\\OneDrive\\Documents\\Python Programs\\Piezo1_MLE\\DiffusionMLE\\src\\em_functions.jl:176\n",
      "\u001b[32mProgress:  10%|████                                     |  ETA: 0:05:50\u001b[39m┌ Warning: NaN detected\n",
      "└ @ DiffusionMLE c:\\Users\\User\\OneDrive\\Documents\\Python Programs\\Piezo1_MLE\\DiffusionMLE\\src\\em_functions.jl:176\n",
      "\u001b[32mProgress:  10%|█████                                    |  ETA: 0:05:47\u001b[39m┌ Warning: NaN detected\n",
      "└ @ DiffusionMLE c:\\Users\\User\\OneDrive\\Documents\\Python Programs\\Piezo1_MLE\\DiffusionMLE\\src\\em_functions.jl:176\n",
      "\u001b[32mProgress:  10%|█████                                    |  ETA: 0:05:44\u001b[39m┌ Warning: NaN detected\n",
      "└ @ DiffusionMLE c:\\Users\\User\\OneDrive\\Documents\\Python Programs\\Piezo1_MLE\\DiffusionMLE\\src\\em_functions.jl:176\n",
      "\u001b[32mProgress:  11%|█████                                    |  ETA: 0:05:42\u001b[39m┌ Warning: NaN detected\n",
      "└ @ DiffusionMLE c:\\Users\\User\\OneDrive\\Documents\\Python Programs\\Piezo1_MLE\\DiffusionMLE\\src\\em_functions.jl:176\n",
      "\u001b[32mProgress:  12%|█████                                    |  ETA: 0:05:39\u001b[39m┌ Warning: NaN detected\n",
      "└ @ DiffusionMLE c:\\Users\\User\\OneDrive\\Documents\\Python Programs\\Piezo1_MLE\\DiffusionMLE\\src\\em_functions.jl:176\n",
      "\u001b[32mProgress:  12%|█████                                    |  ETA: 0:05:36\u001b[39m┌ Warning: NaN detected\n",
      "└ @ DiffusionMLE c:\\Users\\User\\OneDrive\\Documents\\Python Programs\\Piezo1_MLE\\DiffusionMLE\\src\\em_functions.jl:176\n",
      "\u001b[32mProgress:  12%|██████                                   |  ETA: 0:05:34\u001b[39m┌ Warning: NaN detected\n",
      "└ @ DiffusionMLE c:\\Users\\User\\OneDrive\\Documents\\Python Programs\\Piezo1_MLE\\DiffusionMLE\\src\\em_functions.jl:176\n",
      "\u001b[32mProgress:  13%|██████                                   |  ETA: 0:05:32\u001b[39m┌ Warning: NaN detected\n",
      "└ @ DiffusionMLE c:\\Users\\User\\OneDrive\\Documents\\Python Programs\\Piezo1_MLE\\DiffusionMLE\\src\\em_functions.jl:176\n",
      "\u001b[32mProgress:  14%|██████                                   |  ETA: 0:05:29\u001b[39m┌ Warning: NaN detected\n",
      "└ @ DiffusionMLE c:\\Users\\User\\OneDrive\\Documents\\Python Programs\\Piezo1_MLE\\DiffusionMLE\\src\\em_functions.jl:176\n",
      "\u001b[32mProgress:  14%|██████                                   |  ETA: 0:05:27\u001b[39m┌ Warning: NaN detected\n",
      "└ @ DiffusionMLE c:\\Users\\User\\OneDrive\\Documents\\Python Programs\\Piezo1_MLE\\DiffusionMLE\\src\\em_functions.jl:176\n",
      "\u001b[32mProgress:  14%|██████                                   |  ETA: 0:05:25\u001b[39m┌ Warning: NaN detected\n",
      "└ @ DiffusionMLE c:\\Users\\User\\OneDrive\\Documents\\Python Programs\\Piezo1_MLE\\DiffusionMLE\\src\\em_functions.jl:176\n",
      "\u001b[32mProgress:  15%|███████                                  |  ETA: 0:05:23\u001b[39m┌ Warning: NaN detected\n",
      "└ @ DiffusionMLE c:\\Users\\User\\OneDrive\\Documents\\Python Programs\\Piezo1_MLE\\DiffusionMLE\\src\\em_functions.jl:176\n",
      "\u001b[32mProgress:  16%|███████                                  |  ETA: 0:05:21\u001b[39m┌ Warning: NaN detected\n",
      "└ @ DiffusionMLE c:\\Users\\User\\OneDrive\\Documents\\Python Programs\\Piezo1_MLE\\DiffusionMLE\\src\\em_functions.jl:176\n",
      "\u001b[32mProgress:  16%|███████                                  |  ETA: 0:05:18\u001b[39m┌ Warning: NaN detected\n",
      "└ @ DiffusionMLE c:\\Users\\User\\OneDrive\\Documents\\Python Programs\\Piezo1_MLE\\DiffusionMLE\\src\\em_functions.jl:176\n",
      "\u001b[32mProgress:  16%|███████                                  |  ETA: 0:05:16\u001b[39m┌ Warning: NaN detected\n",
      "└ @ DiffusionMLE c:\\Users\\User\\OneDrive\\Documents\\Python Programs\\Piezo1_MLE\\DiffusionMLE\\src\\em_functions.jl:176\n",
      "\u001b[32mProgress:  17%|███████                                  |  ETA: 0:05:14\u001b[39m┌ Warning: NaN detected\n",
      "└ @ DiffusionMLE c:\\Users\\User\\OneDrive\\Documents\\Python Programs\\Piezo1_MLE\\DiffusionMLE\\src\\em_functions.jl:176\n",
      "\u001b[32mProgress:  18%|████████                                 |  ETA: 0:05:12\u001b[39m┌ Warning: NaN detected\n",
      "└ @ DiffusionMLE c:\\Users\\User\\OneDrive\\Documents\\Python Programs\\Piezo1_MLE\\DiffusionMLE\\src\\em_functions.jl:176\n",
      "\u001b[32mProgress:  18%|████████                                 |  ETA: 0:05:10\u001b[39m┌ Warning: NaN detected\n",
      "└ @ DiffusionMLE c:\\Users\\User\\OneDrive\\Documents\\Python Programs\\Piezo1_MLE\\DiffusionMLE\\src\\em_functions.jl:176\n",
      "\u001b[32mProgress:  18%|████████                                 |  ETA: 0:05:07\u001b[39m┌ Warning: NaN detected\n",
      "└ @ DiffusionMLE c:\\Users\\User\\OneDrive\\Documents\\Python Programs\\Piezo1_MLE\\DiffusionMLE\\src\\em_functions.jl:176\n",
      "\u001b[32mProgress:  19%|████████                                 |  ETA: 0:05:05\u001b[39m┌ Warning: NaN detected\n",
      "└ @ DiffusionMLE c:\\Users\\User\\OneDrive\\Documents\\Python Programs\\Piezo1_MLE\\DiffusionMLE\\src\\em_functions.jl:176\n",
      "\u001b[32mProgress:  20%|████████                                 |  ETA: 0:05:03\u001b[39m┌ Warning: NaN detected\n",
      "└ @ DiffusionMLE c:\\Users\\User\\OneDrive\\Documents\\Python Programs\\Piezo1_MLE\\DiffusionMLE\\src\\em_functions.jl:176\n",
      "\u001b[32mProgress:  20%|█████████                                |  ETA: 0:05:01\u001b[39m┌ Warning: NaN detected\n",
      "└ @ DiffusionMLE c:\\Users\\User\\OneDrive\\Documents\\Python Programs\\Piezo1_MLE\\DiffusionMLE\\src\\em_functions.jl:176\n",
      "\u001b[32mProgress:  20%|█████████                                |  ETA: 0:04:59\u001b[39m┌ Warning: NaN detected\n",
      "└ @ DiffusionMLE c:\\Users\\User\\OneDrive\\Documents\\Python Programs\\Piezo1_MLE\\DiffusionMLE\\src\\em_functions.jl:176\n",
      "\u001b[32mProgress:  21%|█████████                                |  ETA: 0:04:57\u001b[39m┌ Warning: NaN detected\n",
      "└ @ DiffusionMLE c:\\Users\\User\\OneDrive\\Documents\\Python Programs\\Piezo1_MLE\\DiffusionMLE\\src\\em_functions.jl:176\n",
      "\u001b[32mProgress:  22%|█████████                                |  ETA: 0:04:55\u001b[39m┌ Warning: NaN detected\n",
      "└ @ DiffusionMLE c:\\Users\\User\\OneDrive\\Documents\\Python Programs\\Piezo1_MLE\\DiffusionMLE\\src\\em_functions.jl:176\n",
      "\u001b[32mProgress:  22%|██████████                               |  ETA: 0:04:53\u001b[39m┌ Warning: NaN detected\n",
      "└ @ DiffusionMLE c:\\Users\\User\\OneDrive\\Documents\\Python Programs\\Piezo1_MLE\\DiffusionMLE\\src\\em_functions.jl:176\n",
      "\u001b[32mProgress:  22%|██████████                               |  ETA: 0:04:51\u001b[39m┌ Warning: NaN detected\n",
      "└ @ DiffusionMLE c:\\Users\\User\\OneDrive\\Documents\\Python Programs\\Piezo1_MLE\\DiffusionMLE\\src\\em_functions.jl:176\n",
      "\u001b[32mProgress:  23%|██████████                               |  ETA: 0:04:50\u001b[39m┌ Warning: NaN detected\n",
      "└ @ DiffusionMLE c:\\Users\\User\\OneDrive\\Documents\\Python Programs\\Piezo1_MLE\\DiffusionMLE\\src\\em_functions.jl:176\n",
      "\u001b[32mProgress:  24%|██████████                               |  ETA: 0:04:48\u001b[39m┌ Warning: NaN detected\n",
      "└ @ DiffusionMLE c:\\Users\\User\\OneDrive\\Documents\\Python Programs\\Piezo1_MLE\\DiffusionMLE\\src\\em_functions.jl:176\n",
      "\u001b[32mProgress:  24%|██████████                               |  ETA: 0:04:46\u001b[39m┌ Warning: NaN detected\n",
      "└ @ DiffusionMLE c:\\Users\\User\\OneDrive\\Documents\\Python Programs\\Piezo1_MLE\\DiffusionMLE\\src\\em_functions.jl:176\n",
      "\u001b[32mProgress:  24%|███████████                              |  ETA: 0:04:44\u001b[39m┌ Warning: NaN detected\n",
      "└ @ DiffusionMLE c:\\Users\\User\\OneDrive\\Documents\\Python Programs\\Piezo1_MLE\\DiffusionMLE\\src\\em_functions.jl:176\n",
      "\u001b[32mProgress:  25%|███████████                              |  ETA: 0:04:42\u001b[39m┌ Warning: NaN detected\n",
      "└ @ DiffusionMLE c:\\Users\\User\\OneDrive\\Documents\\Python Programs\\Piezo1_MLE\\DiffusionMLE\\src\\em_functions.jl:176\n",
      "\u001b[32mProgress:  26%|███████████                              |  ETA: 0:04:41\u001b[39m┌ Warning: NaN detected\n",
      "└ @ DiffusionMLE c:\\Users\\User\\OneDrive\\Documents\\Python Programs\\Piezo1_MLE\\DiffusionMLE\\src\\em_functions.jl:176\n",
      "\u001b[32mProgress:  26%|███████████                              |  ETA: 0:04:39\u001b[39m┌ Warning: NaN detected\n",
      "└ @ DiffusionMLE c:\\Users\\User\\OneDrive\\Documents\\Python Programs\\Piezo1_MLE\\DiffusionMLE\\src\\em_functions.jl:176\n",
      "\u001b[32mProgress:  26%|███████████                              |  ETA: 0:04:37\u001b[39m┌ Warning: NaN detected\n",
      "└ @ DiffusionMLE c:\\Users\\User\\OneDrive\\Documents\\Python Programs\\Piezo1_MLE\\DiffusionMLE\\src\\em_functions.jl:176\n",
      "\u001b[32mProgress:  27%|████████████                             |  ETA: 0:04:35\u001b[39m┌ Warning: NaN detected\n",
      "└ @ DiffusionMLE c:\\Users\\User\\OneDrive\\Documents\\Python Programs\\Piezo1_MLE\\DiffusionMLE\\src\\em_functions.jl:176\n",
      "\u001b[32mProgress:  28%|████████████                             |  ETA: 0:04:33\u001b[39m┌ Warning: NaN detected\n",
      "└ @ DiffusionMLE c:\\Users\\User\\OneDrive\\Documents\\Python Programs\\Piezo1_MLE\\DiffusionMLE\\src\\em_functions.jl:176\n",
      "\u001b[32mProgress:  28%|████████████                             |  ETA: 0:04:31\u001b[39m┌ Warning: NaN detected\n",
      "└ @ DiffusionMLE c:\\Users\\User\\OneDrive\\Documents\\Python Programs\\Piezo1_MLE\\DiffusionMLE\\src\\em_functions.jl:176\n",
      "\u001b[32mProgress:  28%|████████████                             |  ETA: 0:04:29\u001b[39m┌ Warning: NaN detected\n",
      "└ @ DiffusionMLE c:\\Users\\User\\OneDrive\\Documents\\Python Programs\\Piezo1_MLE\\DiffusionMLE\\src\\em_functions.jl:176\n",
      "\u001b[32mProgress:  29%|████████████                             |  ETA: 0:04:27\u001b[39m┌ Warning: NaN NOT detected\n",
      "└ @ DiffusionMLE c:\\Users\\User\\OneDrive\\Documents\\Python Programs\\Piezo1_MLE\\DiffusionMLE\\src\\em_functions.jl:179\n",
      "┌ Warning: NaN NOT detected\n",
      "└ @ DiffusionMLE c:\\Users\\User\\OneDrive\\Documents\\Python Programs\\Piezo1_MLE\\DiffusionMLE\\src\\em_functions.jl:179\n",
      "┌ Warning: NaN NOT detected\n",
      "└ @ DiffusionMLE c:\\Users\\User\\OneDrive\\Documents\\Python Programs\\Piezo1_MLE\\DiffusionMLE\\src\\em_functions.jl:179\n",
      "┌ Warning: NaN NOT detected\n",
      "└ @ DiffusionMLE c:\\Users\\User\\OneDrive\\Documents\\Python Programs\\Piezo1_MLE\\DiffusionMLE\\src\\em_functions.jl:179\n",
      "┌ Warning: NaN NOT detected\n",
      "└ @ DiffusionMLE c:\\Users\\User\\OneDrive\\Documents\\Python Programs\\Piezo1_MLE\\DiffusionMLE\\src\\em_functions.jl:179\n",
      "┌ Warning: NaN NOT detected\n",
      "└ @ DiffusionMLE c:\\Users\\User\\OneDrive\\Documents\\Python Programs\\Piezo1_MLE\\DiffusionMLE\\src\\em_functions.jl:179\n",
      "┌ Warning: NaN NOT detected\n",
      "└ @ DiffusionMLE c:\\Users\\User\\OneDrive\\Documents\\Python Programs\\Piezo1_MLE\\DiffusionMLE\\src\\em_functions.jl:179\n",
      "┌ Warning: NaN NOT detected\n",
      "└ @ DiffusionMLE c:\\Users\\User\\OneDrive\\Documents\\Python Programs\\Piezo1_MLE\\DiffusionMLE\\src\\em_functions.jl:179\n",
      "┌ Warning: NaN NOT detected\n",
      "└ @ DiffusionMLE c:\\Users\\User\\OneDrive\\Documents\\Python Programs\\Piezo1_MLE\\DiffusionMLE\\src\\em_functions.jl:179\n",
      "┌ Warning: NaN NOT detected\n",
      "└ @ DiffusionMLE c:\\Users\\User\\OneDrive\\Documents\\Python Programs\\Piezo1_MLE\\DiffusionMLE\\src\\em_functions.jl:179\n",
      "\u001b[32mProgress:  30%|█████████████                            |  ETA: 0:05:01\u001b[39m┌ Warning: NaN detected\n",
      "└ @ DiffusionMLE c:\\Users\\User\\OneDrive\\Documents\\Python Programs\\Piezo1_MLE\\DiffusionMLE\\src\\em_functions.jl:176\n",
      "\u001b[32mProgress:  30%|█████████████                            |  ETA: 0:04:58\u001b[39m┌ Warning: NaN detected\n",
      "└ @ DiffusionMLE c:\\Users\\User\\OneDrive\\Documents\\Python Programs\\Piezo1_MLE\\DiffusionMLE\\src\\em_functions.jl:176\n",
      "\u001b[32mProgress:  30%|█████████████                            |  ETA: 0:04:55\u001b[39m┌ Warning: NaN detected\n",
      "└ @ DiffusionMLE c:\\Users\\User\\OneDrive\\Documents\\Python Programs\\Piezo1_MLE\\DiffusionMLE\\src\\em_functions.jl:176\n",
      "\u001b[32mProgress:  31%|█████████████                            |  ETA: 0:04:52\u001b[39m┌ Warning: NaN detected\n",
      "└ @ DiffusionMLE c:\\Users\\User\\OneDrive\\Documents\\Python Programs\\Piezo1_MLE\\DiffusionMLE\\src\\em_functions.jl:176\n",
      "\u001b[32mProgress:  32%|█████████████                            |  ETA: 0:04:50\u001b[39m┌ Warning: NaN detected\n",
      "└ @ DiffusionMLE c:\\Users\\User\\OneDrive\\Documents\\Python Programs\\Piezo1_MLE\\DiffusionMLE\\src\\em_functions.jl:176\n",
      "\u001b[32mProgress:  32%|██████████████                           |  ETA: 0:04:47\u001b[39m┌ Warning: NaN detected\n",
      "└ @ DiffusionMLE c:\\Users\\User\\OneDrive\\Documents\\Python Programs\\Piezo1_MLE\\DiffusionMLE\\src\\em_functions.jl:176\n",
      "\u001b[32mProgress:  32%|██████████████                           |  ETA: 0:04:44\u001b[39m┌ Warning: NaN detected\n",
      "└ @ DiffusionMLE c:\\Users\\User\\OneDrive\\Documents\\Python Programs\\Piezo1_MLE\\DiffusionMLE\\src\\em_functions.jl:176\n",
      "\u001b[32mProgress:  33%|██████████████                           |  ETA: 0:04:42\u001b[39m┌ Warning: NaN detected\n",
      "└ @ DiffusionMLE c:\\Users\\User\\OneDrive\\Documents\\Python Programs\\Piezo1_MLE\\DiffusionMLE\\src\\em_functions.jl:176\n",
      "\u001b[32mProgress:  34%|██████████████                           |  ETA: 0:04:39\u001b[39m┌ Warning: NaN detected\n",
      "└ @ DiffusionMLE c:\\Users\\User\\OneDrive\\Documents\\Python Programs\\Piezo1_MLE\\DiffusionMLE\\src\\em_functions.jl:176\n",
      "\u001b[32mProgress:  34%|██████████████                           |  ETA: 0:04:36\u001b[39m┌ Warning: NaN detected\n",
      "└ @ DiffusionMLE c:\\Users\\User\\OneDrive\\Documents\\Python Programs\\Piezo1_MLE\\DiffusionMLE\\src\\em_functions.jl:176\n",
      "\u001b[32mProgress:  34%|███████████████                          |  ETA: 0:04:34\u001b[39m┌ Warning: NaN detected\n",
      "└ @ DiffusionMLE c:\\Users\\User\\OneDrive\\Documents\\Python Programs\\Piezo1_MLE\\DiffusionMLE\\src\\em_functions.jl:176\n",
      "\u001b[32mProgress:  35%|███████████████                          |  ETA: 0:04:31\u001b[39m┌ Warning: NaN detected\n",
      "└ @ DiffusionMLE c:\\Users\\User\\OneDrive\\Documents\\Python Programs\\Piezo1_MLE\\DiffusionMLE\\src\\em_functions.jl:176\n",
      "\u001b[32mProgress:  36%|███████████████                          |  ETA: 0:04:29\u001b[39m┌ Warning: NaN detected\n",
      "└ @ DiffusionMLE c:\\Users\\User\\OneDrive\\Documents\\Python Programs\\Piezo1_MLE\\DiffusionMLE\\src\\em_functions.jl:176\n",
      "\u001b[32mProgress:  36%|███████████████                          |  ETA: 0:04:26\u001b[39m┌ Warning: NaN detected\n",
      "└ @ DiffusionMLE c:\\Users\\User\\OneDrive\\Documents\\Python Programs\\Piezo1_MLE\\DiffusionMLE\\src\\em_functions.jl:176\n",
      "\u001b[32mProgress:  36%|███████████████                          |  ETA: 0:04:24\u001b[39m┌ Warning: NaN detected\n",
      "└ @ DiffusionMLE c:\\Users\\User\\OneDrive\\Documents\\Python Programs\\Piezo1_MLE\\DiffusionMLE\\src\\em_functions.jl:176\n",
      "\u001b[32mProgress:  37%|████████████████                         |  ETA: 0:04:21\u001b[39m┌ Warning: NaN detected\n",
      "└ @ DiffusionMLE c:\\Users\\User\\OneDrive\\Documents\\Python Programs\\Piezo1_MLE\\DiffusionMLE\\src\\em_functions.jl:176\n",
      "\u001b[32mProgress:  38%|████████████████                         |  ETA: 0:04:19\u001b[39m┌ Warning: NaN detected\n",
      "└ @ DiffusionMLE c:\\Users\\User\\OneDrive\\Documents\\Python Programs\\Piezo1_MLE\\DiffusionMLE\\src\\em_functions.jl:176\n",
      "\u001b[32mProgress:  38%|████████████████                         |  ETA: 0:04:16\u001b[39m┌ Warning: NaN detected\n",
      "└ @ DiffusionMLE c:\\Users\\User\\OneDrive\\Documents\\Python Programs\\Piezo1_MLE\\DiffusionMLE\\src\\em_functions.jl:176\n",
      "\u001b[32mProgress:  38%|████████████████                         |  ETA: 0:04:14\u001b[39m┌ Warning: NaN detected\n",
      "└ @ DiffusionMLE c:\\Users\\User\\OneDrive\\Documents\\Python Programs\\Piezo1_MLE\\DiffusionMLE\\src\\em_functions.jl:176\n",
      "\u001b[32mProgress:  39%|████████████████                         |  ETA: 0:04:11\u001b[39m┌ Warning: NaN detected\n",
      "└ @ DiffusionMLE c:\\Users\\User\\OneDrive\\Documents\\Python Programs\\Piezo1_MLE\\DiffusionMLE\\src\\em_functions.jl:176\n",
      "\u001b[32mProgress:  40%|█████████████████                        |  ETA: 0:04:09\u001b[39m┌ Warning: NaN detected\n",
      "└ @ DiffusionMLE c:\\Users\\User\\OneDrive\\Documents\\Python Programs\\Piezo1_MLE\\DiffusionMLE\\src\\em_functions.jl:176\n",
      "\u001b[32mProgress:  40%|█████████████████                        |  ETA: 0:04:07\u001b[39m┌ Warning: NaN detected\n",
      "└ @ DiffusionMLE c:\\Users\\User\\OneDrive\\Documents\\Python Programs\\Piezo1_MLE\\DiffusionMLE\\src\\em_functions.jl:176\n",
      "\u001b[32mProgress:  40%|█████████████████                        |  ETA: 0:04:04\u001b[39m┌ Warning: NaN detected\n",
      "└ @ DiffusionMLE c:\\Users\\User\\OneDrive\\Documents\\Python Programs\\Piezo1_MLE\\DiffusionMLE\\src\\em_functions.jl:176\n",
      "\u001b[32mProgress:  41%|█████████████████                        |  ETA: 0:04:02\u001b[39m┌ Warning: NaN detected\n",
      "└ @ DiffusionMLE c:\\Users\\User\\OneDrive\\Documents\\Python Programs\\Piezo1_MLE\\DiffusionMLE\\src\\em_functions.jl:176\n",
      "\u001b[32mProgress:  42%|██████████████████                       |  ETA: 0:04:00\u001b[39m┌ Warning: NaN detected\n",
      "└ @ DiffusionMLE c:\\Users\\User\\OneDrive\\Documents\\Python Programs\\Piezo1_MLE\\DiffusionMLE\\src\\em_functions.jl:176\n",
      "\u001b[32mProgress:  42%|██████████████████                       |  ETA: 0:03:57\u001b[39m┌ Warning: NaN detected\n",
      "└ @ DiffusionMLE c:\\Users\\User\\OneDrive\\Documents\\Python Programs\\Piezo1_MLE\\DiffusionMLE\\src\\em_functions.jl:176\n",
      "\u001b[32mProgress:  42%|██████████████████                       |  ETA: 0:03:55\u001b[39m┌ Warning: NaN detected\n",
      "└ @ DiffusionMLE c:\\Users\\User\\OneDrive\\Documents\\Python Programs\\Piezo1_MLE\\DiffusionMLE\\src\\em_functions.jl:176\n",
      "\u001b[32mProgress:  43%|██████████████████                       |  ETA: 0:03:53\u001b[39m┌ Warning: NaN detected\n",
      "└ @ DiffusionMLE c:\\Users\\User\\OneDrive\\Documents\\Python Programs\\Piezo1_MLE\\DiffusionMLE\\src\\em_functions.jl:176\n",
      "\u001b[32mProgress:  44%|██████████████████                       |  ETA: 0:03:50\u001b[39m┌ Warning: NaN detected\n",
      "└ @ DiffusionMLE c:\\Users\\User\\OneDrive\\Documents\\Python Programs\\Piezo1_MLE\\DiffusionMLE\\src\\em_functions.jl:176\n",
      "\u001b[32mProgress:  44%|███████████████████                      |  ETA: 0:03:48\u001b[39m┌ Warning: NaN detected\n",
      "└ @ DiffusionMLE c:\\Users\\User\\OneDrive\\Documents\\Python Programs\\Piezo1_MLE\\DiffusionMLE\\src\\em_functions.jl:176\n",
      "\u001b[32mProgress:  44%|███████████████████                      |  ETA: 0:03:46\u001b[39m┌ Warning: NaN detected\n",
      "└ @ DiffusionMLE c:\\Users\\User\\OneDrive\\Documents\\Python Programs\\Piezo1_MLE\\DiffusionMLE\\src\\em_functions.jl:176\n",
      "\u001b[32mProgress:  45%|███████████████████                      |  ETA: 0:03:43\u001b[39m┌ Warning: NaN detected\n",
      "└ @ DiffusionMLE c:\\Users\\User\\OneDrive\\Documents\\Python Programs\\Piezo1_MLE\\DiffusionMLE\\src\\em_functions.jl:176\n",
      "\u001b[32mProgress:  46%|███████████████████                      |  ETA: 0:03:41\u001b[39m┌ Warning: NaN detected\n",
      "└ @ DiffusionMLE c:\\Users\\User\\OneDrive\\Documents\\Python Programs\\Piezo1_MLE\\DiffusionMLE\\src\\em_functions.jl:176\n",
      "\u001b[32mProgress:  46%|███████████████████                      |  ETA: 0:03:39\u001b[39m┌ Warning: NaN detected\n",
      "└ @ DiffusionMLE c:\\Users\\User\\OneDrive\\Documents\\Python Programs\\Piezo1_MLE\\DiffusionMLE\\src\\em_functions.jl:176\n",
      "\u001b[32mProgress:  46%|████████████████████                     |  ETA: 0:03:37\u001b[39m┌ Warning: NaN detected\n",
      "└ @ DiffusionMLE c:\\Users\\User\\OneDrive\\Documents\\Python Programs\\Piezo1_MLE\\DiffusionMLE\\src\\em_functions.jl:176\n",
      "\u001b[32mProgress:  47%|████████████████████                     |  ETA: 0:03:34\u001b[39m┌ Warning: NaN detected\n",
      "└ @ DiffusionMLE c:\\Users\\User\\OneDrive\\Documents\\Python Programs\\Piezo1_MLE\\DiffusionMLE\\src\\em_functions.jl:176\n",
      "\u001b[32mProgress:  48%|████████████████████                     |  ETA: 0:03:32\u001b[39m┌ Warning: NaN detected\n",
      "└ @ DiffusionMLE c:\\Users\\User\\OneDrive\\Documents\\Python Programs\\Piezo1_MLE\\DiffusionMLE\\src\\em_functions.jl:176\n",
      "\u001b[32mProgress:  48%|████████████████████                     |  ETA: 0:03:30\u001b[39m┌ Warning: NaN detected\n",
      "└ @ DiffusionMLE c:\\Users\\User\\OneDrive\\Documents\\Python Programs\\Piezo1_MLE\\DiffusionMLE\\src\\em_functions.jl:176\n",
      "\u001b[32mProgress:  48%|████████████████████                     |  ETA: 0:03:28\u001b[39m┌ Warning: NaN detected\n",
      "└ @ DiffusionMLE c:\\Users\\User\\OneDrive\\Documents\\Python Programs\\Piezo1_MLE\\DiffusionMLE\\src\\em_functions.jl:176\n",
      "\u001b[32mProgress:  49%|█████████████████████                    |  ETA: 0:03:26\u001b[39m┌ Warning: NaN detected\n",
      "└ @ DiffusionMLE c:\\Users\\User\\OneDrive\\Documents\\Python Programs\\Piezo1_MLE\\DiffusionMLE\\src\\em_functions.jl:176\n",
      "\u001b[32mProgress:  50%|█████████████████████                    |  ETA: 0:03:23\u001b[39m┌ Warning: NaN detected\n",
      "└ @ DiffusionMLE c:\\Users\\User\\OneDrive\\Documents\\Python Programs\\Piezo1_MLE\\DiffusionMLE\\src\\em_functions.jl:176\n",
      "\u001b[32mProgress:  50%|█████████████████████                    |  ETA: 0:03:21\u001b[39m┌ Warning: NaN detected\n",
      "└ @ DiffusionMLE c:\\Users\\User\\OneDrive\\Documents\\Python Programs\\Piezo1_MLE\\DiffusionMLE\\src\\em_functions.jl:176\n",
      "\u001b[32mProgress:  50%|█████████████████████                    |  ETA: 0:03:19\u001b[39m┌ Warning: NaN detected\n",
      "└ @ DiffusionMLE c:\\Users\\User\\OneDrive\\Documents\\Python Programs\\Piezo1_MLE\\DiffusionMLE\\src\\em_functions.jl:176\n",
      "\u001b[32mProgress:  51%|█████████████████████                    |  ETA: 0:03:17\u001b[39m┌ Warning: NaN detected\n",
      "└ @ DiffusionMLE c:\\Users\\User\\OneDrive\\Documents\\Python Programs\\Piezo1_MLE\\DiffusionMLE\\src\\em_functions.jl:176\n",
      "\u001b[32mProgress:  52%|██████████████████████                   |  ETA: 0:03:15\u001b[39m┌ Warning: NaN detected\n",
      "└ @ DiffusionMLE c:\\Users\\User\\OneDrive\\Documents\\Python Programs\\Piezo1_MLE\\DiffusionMLE\\src\\em_functions.jl:176\n",
      "\u001b[32mProgress:  52%|██████████████████████                   |  ETA: 0:03:12\u001b[39m┌ Warning: NaN detected\n",
      "└ @ DiffusionMLE c:\\Users\\User\\OneDrive\\Documents\\Python Programs\\Piezo1_MLE\\DiffusionMLE\\src\\em_functions.jl:176\n",
      "\u001b[32mProgress:  52%|██████████████████████                   |  ETA: 0:03:10\u001b[39m┌ Warning: NaN detected\n",
      "└ @ DiffusionMLE c:\\Users\\User\\OneDrive\\Documents\\Python Programs\\Piezo1_MLE\\DiffusionMLE\\src\\em_functions.jl:176\n",
      "\u001b[32mProgress:  53%|██████████████████████                   |  ETA: 0:03:08\u001b[39m┌ Warning: NaN detected\n",
      "└ @ DiffusionMLE c:\\Users\\User\\OneDrive\\Documents\\Python Programs\\Piezo1_MLE\\DiffusionMLE\\src\\em_functions.jl:176\n",
      "\u001b[32mProgress:  54%|██████████████████████                   |  ETA: 0:03:06\u001b[39m┌ Warning: NaN detected\n",
      "└ @ DiffusionMLE c:\\Users\\User\\OneDrive\\Documents\\Python Programs\\Piezo1_MLE\\DiffusionMLE\\src\\em_functions.jl:176\n",
      "\u001b[32mProgress:  54%|███████████████████████                  |  ETA: 0:03:04\u001b[39m┌ Warning: NaN detected\n",
      "└ @ DiffusionMLE c:\\Users\\User\\OneDrive\\Documents\\Python Programs\\Piezo1_MLE\\DiffusionMLE\\src\\em_functions.jl:176\n",
      "\u001b[32mProgress:  54%|███████████████████████                  |  ETA: 0:03:02\u001b[39m┌ Warning: NaN detected\n",
      "└ @ DiffusionMLE c:\\Users\\User\\OneDrive\\Documents\\Python Programs\\Piezo1_MLE\\DiffusionMLE\\src\\em_functions.jl:176\n",
      "\u001b[32mProgress:  55%|███████████████████████                  |  ETA: 0:03:00\u001b[39m┌ Warning: NaN detected\n",
      "└ @ DiffusionMLE c:\\Users\\User\\OneDrive\\Documents\\Python Programs\\Piezo1_MLE\\DiffusionMLE\\src\\em_functions.jl:176\n",
      "\u001b[32mProgress:  56%|███████████████████████                  |  ETA: 0:02:57\u001b[39m┌ Warning: NaN detected\n",
      "└ @ DiffusionMLE c:\\Users\\User\\OneDrive\\Documents\\Python Programs\\Piezo1_MLE\\DiffusionMLE\\src\\em_functions.jl:176\n",
      "\u001b[32mProgress:  56%|███████████████████████                  |  ETA: 0:02:55\u001b[39m┌ Warning: NaN detected\n",
      "└ @ DiffusionMLE c:\\Users\\User\\OneDrive\\Documents\\Python Programs\\Piezo1_MLE\\DiffusionMLE\\src\\em_functions.jl:176\n",
      "\u001b[32mProgress:  56%|████████████████████████                 |  ETA: 0:02:53\u001b[39m┌ Warning: NaN detected\n",
      "└ @ DiffusionMLE c:\\Users\\User\\OneDrive\\Documents\\Python Programs\\Piezo1_MLE\\DiffusionMLE\\src\\em_functions.jl:176\n",
      "\u001b[32mProgress:  57%|████████████████████████                 |  ETA: 0:02:51\u001b[39m┌ Warning: NaN detected\n",
      "└ @ DiffusionMLE c:\\Users\\User\\OneDrive\\Documents\\Python Programs\\Piezo1_MLE\\DiffusionMLE\\src\\em_functions.jl:176\n",
      "\u001b[32mProgress:  58%|████████████████████████                 |  ETA: 0:02:49\u001b[39m┌ Warning: NaN detected\n",
      "└ @ DiffusionMLE c:\\Users\\User\\OneDrive\\Documents\\Python Programs\\Piezo1_MLE\\DiffusionMLE\\src\\em_functions.jl:176\n",
      "\u001b[32mProgress:  58%|████████████████████████                 |  ETA: 0:02:47\u001b[39m┌ Warning: NaN detected\n",
      "└ @ DiffusionMLE c:\\Users\\User\\OneDrive\\Documents\\Python Programs\\Piezo1_MLE\\DiffusionMLE\\src\\em_functions.jl:176\n",
      "\u001b[32mProgress:  58%|████████████████████████                 |  ETA: 0:02:45\u001b[39m┌ Warning: NaN detected\n",
      "└ @ DiffusionMLE c:\\Users\\User\\OneDrive\\Documents\\Python Programs\\Piezo1_MLE\\DiffusionMLE\\src\\em_functions.jl:176\n",
      "\u001b[32mProgress:  59%|█████████████████████████                |  ETA: 0:02:43\u001b[39m┌ Warning: NaN detected\n",
      "└ @ DiffusionMLE c:\\Users\\User\\OneDrive\\Documents\\Python Programs\\Piezo1_MLE\\DiffusionMLE\\src\\em_functions.jl:176\n",
      "\u001b[32mProgress:  60%|█████████████████████████                |  ETA: 0:02:41\u001b[39m┌ Warning: NaN detected\n",
      "└ @ DiffusionMLE c:\\Users\\User\\OneDrive\\Documents\\Python Programs\\Piezo1_MLE\\DiffusionMLE\\src\\em_functions.jl:176\n",
      "\u001b[32mProgress:  60%|█████████████████████████                |  ETA: 0:02:39\u001b[39m┌ Warning: NaN detected\n",
      "└ @ DiffusionMLE c:\\Users\\User\\OneDrive\\Documents\\Python Programs\\Piezo1_MLE\\DiffusionMLE\\src\\em_functions.jl:176\n",
      "\u001b[32mProgress:  60%|█████████████████████████                |  ETA: 0:02:36\u001b[39m┌ Warning: NaN detected\n",
      "└ @ DiffusionMLE c:\\Users\\User\\OneDrive\\Documents\\Python Programs\\Piezo1_MLE\\DiffusionMLE\\src\\em_functions.jl:176\n",
      "\u001b[32mProgress:  61%|██████████████████████████               |  ETA: 0:02:34\u001b[39m┌ Warning: NaN detected\n",
      "└ @ DiffusionMLE c:\\Users\\User\\OneDrive\\Documents\\Python Programs\\Piezo1_MLE\\DiffusionMLE\\src\\em_functions.jl:176\n",
      "\u001b[32mProgress:  62%|██████████████████████████               |  ETA: 0:02:32\u001b[39m┌ Warning: NaN detected\n",
      "└ @ DiffusionMLE c:\\Users\\User\\OneDrive\\Documents\\Python Programs\\Piezo1_MLE\\DiffusionMLE\\src\\em_functions.jl:176\n",
      "\u001b[32mProgress:  62%|██████████████████████████               |  ETA: 0:02:30\u001b[39m┌ Warning: NaN detected\n",
      "└ @ DiffusionMLE c:\\Users\\User\\OneDrive\\Documents\\Python Programs\\Piezo1_MLE\\DiffusionMLE\\src\\em_functions.jl:176\n",
      "\u001b[32mProgress:  62%|██████████████████████████               |  ETA: 0:02:28\u001b[39m┌ Warning: NaN detected\n",
      "└ @ DiffusionMLE c:\\Users\\User\\OneDrive\\Documents\\Python Programs\\Piezo1_MLE\\DiffusionMLE\\src\\em_functions.jl:176\n",
      "\u001b[32mProgress:  63%|██████████████████████████               |  ETA: 0:02:26\u001b[39m┌ Warning: NaN detected\n",
      "└ @ DiffusionMLE c:\\Users\\User\\OneDrive\\Documents\\Python Programs\\Piezo1_MLE\\DiffusionMLE\\src\\em_functions.jl:176\n",
      "\u001b[32mProgress:  64%|███████████████████████████              |  ETA: 0:02:24\u001b[39m┌ Warning: NaN detected\n",
      "└ @ DiffusionMLE c:\\Users\\User\\OneDrive\\Documents\\Python Programs\\Piezo1_MLE\\DiffusionMLE\\src\\em_functions.jl:176\n",
      "\u001b[32mProgress:  64%|███████████████████████████              |  ETA: 0:02:22\u001b[39m┌ Warning: NaN detected\n",
      "└ @ DiffusionMLE c:\\Users\\User\\OneDrive\\Documents\\Python Programs\\Piezo1_MLE\\DiffusionMLE\\src\\em_functions.jl:176\n",
      "\u001b[32mProgress:  64%|███████████████████████████              |  ETA: 0:02:20\u001b[39m┌ Warning: NaN detected\n",
      "└ @ DiffusionMLE c:\\Users\\User\\OneDrive\\Documents\\Python Programs\\Piezo1_MLE\\DiffusionMLE\\src\\em_functions.jl:176\n",
      "\u001b[32mProgress:  65%|███████████████████████████              |  ETA: 0:02:18\u001b[39m┌ Warning: NaN detected\n",
      "└ @ DiffusionMLE c:\\Users\\User\\OneDrive\\Documents\\Python Programs\\Piezo1_MLE\\DiffusionMLE\\src\\em_functions.jl:176\n",
      "\u001b[32mProgress:  66%|███████████████████████████              |  ETA: 0:02:16\u001b[39m┌ Warning: NaN detected\n",
      "└ @ DiffusionMLE c:\\Users\\User\\OneDrive\\Documents\\Python Programs\\Piezo1_MLE\\DiffusionMLE\\src\\em_functions.jl:176\n",
      "\u001b[32mProgress:  66%|████████████████████████████             |  ETA: 0:02:14\u001b[39m┌ Warning: NaN detected\n",
      "└ @ DiffusionMLE c:\\Users\\User\\OneDrive\\Documents\\Python Programs\\Piezo1_MLE\\DiffusionMLE\\src\\em_functions.jl:176\n",
      "\u001b[32mProgress:  66%|████████████████████████████             |  ETA: 0:02:12\u001b[39m┌ Warning: NaN detected\n",
      "└ @ DiffusionMLE c:\\Users\\User\\OneDrive\\Documents\\Python Programs\\Piezo1_MLE\\DiffusionMLE\\src\\em_functions.jl:176\n",
      "\u001b[32mProgress:  67%|████████████████████████████             |  ETA: 0:02:10\u001b[39m┌ Warning: NaN detected\n",
      "└ @ DiffusionMLE c:\\Users\\User\\OneDrive\\Documents\\Python Programs\\Piezo1_MLE\\DiffusionMLE\\src\\em_functions.jl:176\n",
      "\u001b[32mProgress:  68%|████████████████████████████             |  ETA: 0:02:08\u001b[39m┌ Warning: NaN detected\n",
      "└ @ DiffusionMLE c:\\Users\\User\\OneDrive\\Documents\\Python Programs\\Piezo1_MLE\\DiffusionMLE\\src\\em_functions.jl:176\n",
      "\u001b[32mProgress:  68%|████████████████████████████             |  ETA: 0:02:06\u001b[39m┌ Warning: NaN detected\n",
      "└ @ DiffusionMLE c:\\Users\\User\\OneDrive\\Documents\\Python Programs\\Piezo1_MLE\\DiffusionMLE\\src\\em_functions.jl:176\n",
      "\u001b[32mProgress:  68%|█████████████████████████████            |  ETA: 0:02:04\u001b[39m┌ Warning: NaN NOT detected\n",
      "└ @ DiffusionMLE c:\\Users\\User\\OneDrive\\Documents\\Python Programs\\Piezo1_MLE\\DiffusionMLE\\src\\em_functions.jl:179\n",
      "┌ Warning: NaN NOT detected\n",
      "└ @ DiffusionMLE c:\\Users\\User\\OneDrive\\Documents\\Python Programs\\Piezo1_MLE\\DiffusionMLE\\src\\em_functions.jl:179\n",
      "┌ Warning: NaN NOT detected\n",
      "└ @ DiffusionMLE c:\\Users\\User\\OneDrive\\Documents\\Python Programs\\Piezo1_MLE\\DiffusionMLE\\src\\em_functions.jl:179\n",
      "┌ Warning: NaN NOT detected\n",
      "└ @ DiffusionMLE c:\\Users\\User\\OneDrive\\Documents\\Python Programs\\Piezo1_MLE\\DiffusionMLE\\src\\em_functions.jl:179\n",
      "┌ Warning: NaN NOT detected\n",
      "└ @ DiffusionMLE c:\\Users\\User\\OneDrive\\Documents\\Python Programs\\Piezo1_MLE\\DiffusionMLE\\src\\em_functions.jl:179\n",
      "┌ Warning: NaN NOT detected\n",
      "└ @ DiffusionMLE c:\\Users\\User\\OneDrive\\Documents\\Python Programs\\Piezo1_MLE\\DiffusionMLE\\src\\em_functions.jl:179\n",
      "┌ Warning: NaN NOT detected\n",
      "└ @ DiffusionMLE c:\\Users\\User\\OneDrive\\Documents\\Python Programs\\Piezo1_MLE\\DiffusionMLE\\src\\em_functions.jl:179\n",
      "┌ Warning: NaN NOT detected\n",
      "└ @ DiffusionMLE c:\\Users\\User\\OneDrive\\Documents\\Python Programs\\Piezo1_MLE\\DiffusionMLE\\src\\em_functions.jl:179\n",
      "┌ Warning: NaN NOT detected\n",
      "└ @ DiffusionMLE c:\\Users\\User\\OneDrive\\Documents\\Python Programs\\Piezo1_MLE\\DiffusionMLE\\src\\em_functions.jl:179\n",
      "┌ Warning: NaN NOT detected\n",
      "└ @ DiffusionMLE c:\\Users\\User\\OneDrive\\Documents\\Python Programs\\Piezo1_MLE\\DiffusionMLE\\src\\em_functions.jl:179\n",
      "┌ Warning: NaN NOT detected\n",
      "└ @ DiffusionMLE c:\\Users\\User\\OneDrive\\Documents\\Python Programs\\Piezo1_MLE\\DiffusionMLE\\src\\em_functions.jl:179\n",
      "┌ Warning: NaN NOT detected\n",
      "└ @ DiffusionMLE c:\\Users\\User\\OneDrive\\Documents\\Python Programs\\Piezo1_MLE\\DiffusionMLE\\src\\em_functions.jl:179\n",
      "\u001b[32mProgress:  69%|█████████████████████████████            |  ETA: 0:02:10\u001b[39m┌ Warning: NaN detected\n",
      "└ @ DiffusionMLE c:\\Users\\User\\OneDrive\\Documents\\Python Programs\\Piezo1_MLE\\DiffusionMLE\\src\\em_functions.jl:176\n",
      "\u001b[32mProgress:  70%|█████████████████████████████            |  ETA: 0:02:08\u001b[39m┌ Warning: NaN detected\n",
      "└ @ DiffusionMLE c:\\Users\\User\\OneDrive\\Documents\\Python Programs\\Piezo1_MLE\\DiffusionMLE\\src\\em_functions.jl:176\n",
      "\u001b[32mProgress:  70%|█████████████████████████████            |  ETA: 0:02:06\u001b[39m┌ Warning: NaN detected\n",
      "└ @ DiffusionMLE c:\\Users\\User\\OneDrive\\Documents\\Python Programs\\Piezo1_MLE\\DiffusionMLE\\src\\em_functions.jl:176\n",
      "\u001b[32mProgress:  70%|█████████████████████████████            |  ETA: 0:02:03\u001b[39m┌ Warning: NaN detected\n",
      "└ @ DiffusionMLE c:\\Users\\User\\OneDrive\\Documents\\Python Programs\\Piezo1_MLE\\DiffusionMLE\\src\\em_functions.jl:176\n",
      "\u001b[32mProgress:  71%|██████████████████████████████           |  ETA: 0:02:01\u001b[39m┌ Warning: NaN detected\n",
      "└ @ DiffusionMLE c:\\Users\\User\\OneDrive\\Documents\\Python Programs\\Piezo1_MLE\\DiffusionMLE\\src\\em_functions.jl:176\n",
      "\u001b[32mProgress:  72%|██████████████████████████████           |  ETA: 0:01:59\u001b[39m┌ Warning: NaN detected\n",
      "└ @ DiffusionMLE c:\\Users\\User\\OneDrive\\Documents\\Python Programs\\Piezo1_MLE\\DiffusionMLE\\src\\em_functions.jl:176\n",
      "\u001b[32mProgress:  72%|██████████████████████████████           |  ETA: 0:01:57\u001b[39m┌ Warning: NaN detected\n",
      "└ @ DiffusionMLE c:\\Users\\User\\OneDrive\\Documents\\Python Programs\\Piezo1_MLE\\DiffusionMLE\\src\\em_functions.jl:176\n",
      "\u001b[32mProgress:  72%|██████████████████████████████           |  ETA: 0:01:55\u001b[39m┌ Warning: NaN detected\n",
      "└ @ DiffusionMLE c:\\Users\\User\\OneDrive\\Documents\\Python Programs\\Piezo1_MLE\\DiffusionMLE\\src\\em_functions.jl:176\n",
      "\u001b[32mProgress:  73%|██████████████████████████████           |  ETA: 0:01:52\u001b[39m┌ Warning: NaN detected\n",
      "└ @ DiffusionMLE c:\\Users\\User\\OneDrive\\Documents\\Python Programs\\Piezo1_MLE\\DiffusionMLE\\src\\em_functions.jl:176\n",
      "\u001b[32mProgress:  74%|███████████████████████████████          |  ETA: 0:01:50\u001b[39m┌ Warning: NaN detected\n",
      "└ @ DiffusionMLE c:\\Users\\User\\OneDrive\\Documents\\Python Programs\\Piezo1_MLE\\DiffusionMLE\\src\\em_functions.jl:176\n",
      "\u001b[32mProgress:  74%|███████████████████████████████          |  ETA: 0:01:48\u001b[39m┌ Warning: NaN detected\n",
      "└ @ DiffusionMLE c:\\Users\\User\\OneDrive\\Documents\\Python Programs\\Piezo1_MLE\\DiffusionMLE\\src\\em_functions.jl:176\n",
      "\u001b[32mProgress:  74%|███████████████████████████████          |  ETA: 0:01:46\u001b[39m┌ Warning: NaN detected\n",
      "└ @ DiffusionMLE c:\\Users\\User\\OneDrive\\Documents\\Python Programs\\Piezo1_MLE\\DiffusionMLE\\src\\em_functions.jl:176\n",
      "\u001b[32mProgress:  75%|███████████████████████████████          |  ETA: 0:01:44\u001b[39m┌ Warning: NaN detected\n",
      "└ @ DiffusionMLE c:\\Users\\User\\OneDrive\\Documents\\Python Programs\\Piezo1_MLE\\DiffusionMLE\\src\\em_functions.jl:176\n",
      "\u001b[32mProgress:  76%|███████████████████████████████          |  ETA: 0:01:42\u001b[39m┌ Warning: NaN detected\n",
      "└ @ DiffusionMLE c:\\Users\\User\\OneDrive\\Documents\\Python Programs\\Piezo1_MLE\\DiffusionMLE\\src\\em_functions.jl:176\n",
      "\u001b[32mProgress:  76%|████████████████████████████████         |  ETA: 0:01:39\u001b[39m┌ Warning: NaN detected\n",
      "└ @ DiffusionMLE c:\\Users\\User\\OneDrive\\Documents\\Python Programs\\Piezo1_MLE\\DiffusionMLE\\src\\em_functions.jl:176\n",
      "\u001b[32mProgress:  76%|████████████████████████████████         |  ETA: 0:01:37\u001b[39m┌ Warning: NaN detected\n",
      "└ @ DiffusionMLE c:\\Users\\User\\OneDrive\\Documents\\Python Programs\\Piezo1_MLE\\DiffusionMLE\\src\\em_functions.jl:176\n",
      "\u001b[32mProgress:  77%|████████████████████████████████         |  ETA: 0:01:35\u001b[39m┌ Warning: NaN detected\n",
      "└ @ DiffusionMLE c:\\Users\\User\\OneDrive\\Documents\\Python Programs\\Piezo1_MLE\\DiffusionMLE\\src\\em_functions.jl:176\n",
      "\u001b[32mProgress:  78%|████████████████████████████████         |  ETA: 0:01:33\u001b[39m┌ Warning: NaN detected\n",
      "└ @ DiffusionMLE c:\\Users\\User\\OneDrive\\Documents\\Python Programs\\Piezo1_MLE\\DiffusionMLE\\src\\em_functions.jl:176\n",
      "\u001b[32mProgress:  78%|████████████████████████████████         |  ETA: 0:01:31\u001b[39m┌ Warning: NaN detected\n",
      "└ @ DiffusionMLE c:\\Users\\User\\OneDrive\\Documents\\Python Programs\\Piezo1_MLE\\DiffusionMLE\\src\\em_functions.jl:176\n",
      "\u001b[32mProgress:  78%|█████████████████████████████████        |  ETA: 0:01:29\u001b[39m┌ Warning: NaN detected\n",
      "└ @ DiffusionMLE c:\\Users\\User\\OneDrive\\Documents\\Python Programs\\Piezo1_MLE\\DiffusionMLE\\src\\em_functions.jl:176\n",
      "\u001b[32mProgress:  79%|█████████████████████████████████        |  ETA: 0:01:27\u001b[39m┌ Warning: NaN detected\n",
      "└ @ DiffusionMLE c:\\Users\\User\\OneDrive\\Documents\\Python Programs\\Piezo1_MLE\\DiffusionMLE\\src\\em_functions.jl:176\n",
      "\u001b[32mProgress:  80%|█████████████████████████████████        |  ETA: 0:01:24\u001b[39m┌ Warning: NaN detected\n",
      "└ @ DiffusionMLE c:\\Users\\User\\OneDrive\\Documents\\Python Programs\\Piezo1_MLE\\DiffusionMLE\\src\\em_functions.jl:176\n",
      "\u001b[32mProgress:  80%|█████████████████████████████████        |  ETA: 0:01:22\u001b[39m┌ Warning: NaN detected\n",
      "└ @ DiffusionMLE c:\\Users\\User\\OneDrive\\Documents\\Python Programs\\Piezo1_MLE\\DiffusionMLE\\src\\em_functions.jl:176\n",
      "\u001b[32mProgress:  80%|██████████████████████████████████       |  ETA: 0:01:20\u001b[39m┌ Warning: NaN detected\n",
      "└ @ DiffusionMLE c:\\Users\\User\\OneDrive\\Documents\\Python Programs\\Piezo1_MLE\\DiffusionMLE\\src\\em_functions.jl:176\n",
      "\u001b[32mProgress:  81%|██████████████████████████████████       |  ETA: 0:01:18\u001b[39m┌ Warning: NaN detected\n",
      "└ @ DiffusionMLE c:\\Users\\User\\OneDrive\\Documents\\Python Programs\\Piezo1_MLE\\DiffusionMLE\\src\\em_functions.jl:176\n",
      "\u001b[32mProgress:  82%|██████████████████████████████████       |  ETA: 0:01:16\u001b[39m┌ Warning: NaN detected\n",
      "└ @ DiffusionMLE c:\\Users\\User\\OneDrive\\Documents\\Python Programs\\Piezo1_MLE\\DiffusionMLE\\src\\em_functions.jl:176\n",
      "\u001b[32mProgress:  82%|██████████████████████████████████       |  ETA: 0:01:14\u001b[39m┌ Warning: NaN detected\n",
      "└ @ DiffusionMLE c:\\Users\\User\\OneDrive\\Documents\\Python Programs\\Piezo1_MLE\\DiffusionMLE\\src\\em_functions.jl:176\n",
      "\u001b[32mProgress:  82%|██████████████████████████████████       |  ETA: 0:01:12\u001b[39m┌ Warning: NaN detected\n",
      "└ @ DiffusionMLE c:\\Users\\User\\OneDrive\\Documents\\Python Programs\\Piezo1_MLE\\DiffusionMLE\\src\\em_functions.jl:176\n",
      "\u001b[32mProgress:  83%|███████████████████████████████████      |  ETA: 0:01:10\u001b[39m┌ Warning: NaN detected\n",
      "└ @ DiffusionMLE c:\\Users\\User\\OneDrive\\Documents\\Python Programs\\Piezo1_MLE\\DiffusionMLE\\src\\em_functions.jl:176\n",
      "\u001b[32mProgress:  84%|███████████████████████████████████      |  ETA: 0:01:08\u001b[39m┌ Warning: NaN detected\n",
      "└ @ DiffusionMLE c:\\Users\\User\\OneDrive\\Documents\\Python Programs\\Piezo1_MLE\\DiffusionMLE\\src\\em_functions.jl:176\n",
      "\u001b[32mProgress:  84%|███████████████████████████████████      |  ETA: 0:01:06\u001b[39m┌ Warning: NaN detected\n",
      "└ @ DiffusionMLE c:\\Users\\User\\OneDrive\\Documents\\Python Programs\\Piezo1_MLE\\DiffusionMLE\\src\\em_functions.jl:176\n",
      "\u001b[32mProgress:  84%|███████████████████████████████████      |  ETA: 0:01:04\u001b[39m┌ Warning: NaN detected\n",
      "└ @ DiffusionMLE c:\\Users\\User\\OneDrive\\Documents\\Python Programs\\Piezo1_MLE\\DiffusionMLE\\src\\em_functions.jl:176\n",
      "\u001b[32mProgress:  85%|███████████████████████████████████      |  ETA: 0:01:01\u001b[39m┌ Warning: NaN detected\n",
      "└ @ DiffusionMLE c:\\Users\\User\\OneDrive\\Documents\\Python Programs\\Piezo1_MLE\\DiffusionMLE\\src\\em_functions.jl:176\n",
      "\u001b[32mProgress:  86%|████████████████████████████████████     |  ETA: 0:00:59\u001b[39m┌ Warning: NaN detected\n",
      "└ @ DiffusionMLE c:\\Users\\User\\OneDrive\\Documents\\Python Programs\\Piezo1_MLE\\DiffusionMLE\\src\\em_functions.jl:176\n",
      "\u001b[32mProgress:  86%|████████████████████████████████████     |  ETA: 0:00:57\u001b[39m┌ Warning: NaN detected\n",
      "└ @ DiffusionMLE c:\\Users\\User\\OneDrive\\Documents\\Python Programs\\Piezo1_MLE\\DiffusionMLE\\src\\em_functions.jl:176\n",
      "\u001b[32mProgress:  86%|████████████████████████████████████     |  ETA: 0:00:55\u001b[39m┌ Warning: NaN detected\n",
      "└ @ DiffusionMLE c:\\Users\\User\\OneDrive\\Documents\\Python Programs\\Piezo1_MLE\\DiffusionMLE\\src\\em_functions.jl:176\n",
      "\u001b[32mProgress:  87%|████████████████████████████████████     |  ETA: 0:00:53\u001b[39m┌ Warning: NaN detected\n",
      "└ @ DiffusionMLE c:\\Users\\User\\OneDrive\\Documents\\Python Programs\\Piezo1_MLE\\DiffusionMLE\\src\\em_functions.jl:176\n",
      "\u001b[32mProgress:  88%|████████████████████████████████████     |  ETA: 0:00:51\u001b[39m┌ Warning: NaN detected\n",
      "└ @ DiffusionMLE c:\\Users\\User\\OneDrive\\Documents\\Python Programs\\Piezo1_MLE\\DiffusionMLE\\src\\em_functions.jl:176\n",
      "\u001b[32mProgress:  88%|█████████████████████████████████████    |  ETA: 0:00:49\u001b[39m┌ Warning: NaN detected\n",
      "└ @ DiffusionMLE c:\\Users\\User\\OneDrive\\Documents\\Python Programs\\Piezo1_MLE\\DiffusionMLE\\src\\em_functions.jl:176\n",
      "\u001b[32mProgress:  88%|█████████████████████████████████████    |  ETA: 0:00:47\u001b[39m┌ Warning: NaN detected\n",
      "└ @ DiffusionMLE c:\\Users\\User\\OneDrive\\Documents\\Python Programs\\Piezo1_MLE\\DiffusionMLE\\src\\em_functions.jl:176\n",
      "\u001b[32mProgress:  89%|█████████████████████████████████████    |  ETA: 0:00:45\u001b[39m┌ Warning: NaN detected\n",
      "└ @ DiffusionMLE c:\\Users\\User\\OneDrive\\Documents\\Python Programs\\Piezo1_MLE\\DiffusionMLE\\src\\em_functions.jl:176\n",
      "\u001b[32mProgress:  90%|█████████████████████████████████████    |  ETA: 0:00:43\u001b[39m┌ Warning: NaN detected\n",
      "└ @ DiffusionMLE c:\\Users\\User\\OneDrive\\Documents\\Python Programs\\Piezo1_MLE\\DiffusionMLE\\src\\em_functions.jl:176\n",
      "\u001b[32mProgress:  90%|█████████████████████████████████████    |  ETA: 0:00:41\u001b[39m┌ Warning: NaN detected\n",
      "└ @ DiffusionMLE c:\\Users\\User\\OneDrive\\Documents\\Python Programs\\Piezo1_MLE\\DiffusionMLE\\src\\em_functions.jl:176\n",
      "\u001b[32mProgress:  90%|██████████████████████████████████████   |  ETA: 0:00:39\u001b[39m┌ Warning: NaN detected\n",
      "└ @ DiffusionMLE c:\\Users\\User\\OneDrive\\Documents\\Python Programs\\Piezo1_MLE\\DiffusionMLE\\src\\em_functions.jl:176\n",
      "\u001b[32mProgress:  91%|██████████████████████████████████████   |  ETA: 0:00:37\u001b[39m┌ Warning: NaN detected\n",
      "└ @ DiffusionMLE c:\\Users\\User\\OneDrive\\Documents\\Python Programs\\Piezo1_MLE\\DiffusionMLE\\src\\em_functions.jl:176\n",
      "\u001b[32mProgress:  92%|██████████████████████████████████████   |  ETA: 0:00:35\u001b[39m┌ Warning: NaN detected\n",
      "└ @ DiffusionMLE c:\\Users\\User\\OneDrive\\Documents\\Python Programs\\Piezo1_MLE\\DiffusionMLE\\src\\em_functions.jl:176\n",
      "\u001b[32mProgress:  92%|██████████████████████████████████████   |  ETA: 0:00:32\u001b[39m┌ Warning: NaN detected\n",
      "└ @ DiffusionMLE c:\\Users\\User\\OneDrive\\Documents\\Python Programs\\Piezo1_MLE\\DiffusionMLE\\src\\em_functions.jl:176\n",
      "\u001b[32mProgress:  92%|██████████████████████████████████████   |  ETA: 0:00:30\u001b[39m┌ Warning: NaN detected\n",
      "└ @ DiffusionMLE c:\\Users\\User\\OneDrive\\Documents\\Python Programs\\Piezo1_MLE\\DiffusionMLE\\src\\em_functions.jl:176\n",
      "\u001b[32mProgress:  93%|███████████████████████████████████████  |  ETA: 0:00:28\u001b[39m┌ Warning: NaN detected\n",
      "└ @ DiffusionMLE c:\\Users\\User\\OneDrive\\Documents\\Python Programs\\Piezo1_MLE\\DiffusionMLE\\src\\em_functions.jl:176\n",
      "\u001b[32mProgress:  94%|███████████████████████████████████████  |  ETA: 0:00:26\u001b[39m┌ Warning: NaN detected\n",
      "└ @ DiffusionMLE c:\\Users\\User\\OneDrive\\Documents\\Python Programs\\Piezo1_MLE\\DiffusionMLE\\src\\em_functions.jl:176\n",
      "\u001b[32mProgress:  94%|███████████████████████████████████████  |  ETA: 0:00:24\u001b[39m┌ Warning: NaN detected\n",
      "└ @ DiffusionMLE c:\\Users\\User\\OneDrive\\Documents\\Python Programs\\Piezo1_MLE\\DiffusionMLE\\src\\em_functions.jl:176\n",
      "\u001b[32mProgress:  94%|███████████████████████████████████████  |  ETA: 0:00:22\u001b[39m┌ Warning: NaN detected\n",
      "└ @ DiffusionMLE c:\\Users\\User\\OneDrive\\Documents\\Python Programs\\Piezo1_MLE\\DiffusionMLE\\src\\em_functions.jl:176\n",
      "\u001b[32mProgress:  95%|███████████████████████████████████████  |  ETA: 0:00:20\u001b[39m┌ Warning: NaN detected\n",
      "└ @ DiffusionMLE c:\\Users\\User\\OneDrive\\Documents\\Python Programs\\Piezo1_MLE\\DiffusionMLE\\src\\em_functions.jl:176\n",
      "\u001b[32mProgress:  96%|████████████████████████████████████████ |  ETA: 0:00:18\u001b[39m┌ Warning: NaN detected\n",
      "└ @ DiffusionMLE c:\\Users\\User\\OneDrive\\Documents\\Python Programs\\Piezo1_MLE\\DiffusionMLE\\src\\em_functions.jl:176\n",
      "\u001b[32mProgress:  96%|████████████████████████████████████████ |  ETA: 0:00:16\u001b[39m┌ Warning: NaN detected\n",
      "└ @ DiffusionMLE c:\\Users\\User\\OneDrive\\Documents\\Python Programs\\Piezo1_MLE\\DiffusionMLE\\src\\em_functions.jl:176\n",
      "\u001b[32mProgress:  96%|████████████████████████████████████████ |  ETA: 0:00:14\u001b[39m┌ Warning: NaN detected\n",
      "└ @ DiffusionMLE c:\\Users\\User\\OneDrive\\Documents\\Python Programs\\Piezo1_MLE\\DiffusionMLE\\src\\em_functions.jl:176\n",
      "\u001b[32mProgress:  97%|████████████████████████████████████████ |  ETA: 0:00:12\u001b[39m┌ Warning: NaN detected\n",
      "└ @ DiffusionMLE c:\\Users\\User\\OneDrive\\Documents\\Python Programs\\Piezo1_MLE\\DiffusionMLE\\src\\em_functions.jl:176\n",
      "\u001b[32mProgress:  98%|████████████████████████████████████████ |  ETA: 0:00:10\u001b[39m┌ Warning: NaN detected\n",
      "└ @ DiffusionMLE c:\\Users\\User\\OneDrive\\Documents\\Python Programs\\Piezo1_MLE\\DiffusionMLE\\src\\em_functions.jl:176\n",
      "\u001b[32mProgress:  98%|█████████████████████████████████████████|  ETA: 0:00:08\u001b[39m┌ Warning: NaN detected\n",
      "└ @ DiffusionMLE c:\\Users\\User\\OneDrive\\Documents\\Python Programs\\Piezo1_MLE\\DiffusionMLE\\src\\em_functions.jl:176\n",
      "\u001b[32mProgress:  98%|█████████████████████████████████████████|  ETA: 0:00:06\u001b[39m┌ Warning: NaN detected\n",
      "└ @ DiffusionMLE c:\\Users\\User\\OneDrive\\Documents\\Python Programs\\Piezo1_MLE\\DiffusionMLE\\src\\em_functions.jl:176\n",
      "\u001b[32mProgress:  99%|█████████████████████████████████████████|  ETA: 0:00:04\u001b[39m┌ Warning: NaN detected\n",
      "└ @ DiffusionMLE c:\\Users\\User\\OneDrive\\Documents\\Python Programs\\Piezo1_MLE\\DiffusionMLE\\src\\em_functions.jl:176\n",
      "\u001b[32mProgress: 100%|█████████████████████████████████████████|  ETA: 0:00:02\u001b[39m┌ Warning: NaN detected\n",
      "└ @ DiffusionMLE c:\\Users\\User\\OneDrive\\Documents\\Python Programs\\Piezo1_MLE\\DiffusionMLE\\src\\em_functions.jl:176\n",
      "\u001b[32mProgress: 100%|█████████████████████████████████████████| Time: 0:06:42\u001b[39m\n"
     ]
    }
   ],
   "metadata": {}
  },
  {
   "cell_type": "code",
   "execution_count": 8,
   "source": [
    "B_sub, X_sub = sort_trajectories(3,PX_T,B_values,mob_data)\r\n",
    "PX_uncertainties = hcat([ MLE_errors(B_sub[k], X_sub[k], PX_estimates[1:2,k]) for k = 1 : 3 ]...)\r\n",
    "\r\n",
    "println(\"Estimates:\")\r\n",
    "print_results(PX_estimates,PX_uncertainties)\r\n",
    "\r\n",
    "println()\r\n",
    "\r\n",
    "Q_sub = subpopulation_analysis(PX_T,PX_estimates,B_values,mob_data)\r\n",
    "Q = vcat(Q_sub...)\r\n",
    "\r\n",
    "println()\r\n",
    "\r\n",
    "println(\"Kuiper statistic:\")\r\n",
    "println(\"K=\",Kuiper_statistic!(Q))\r\n",
    "\r\n",
    "histogram(Q, normed=true, legend=false,\r\n",
    "    xlabel=\"quality factor Q\", \r\n",
    "    ylabel=\"probability distribution function p(Q)\")"
   ],
   "outputs": [
    {
     "output_type": "error",
     "ename": "LoadError",
     "evalue": "BoundsError: attempt to access 0-element Vector{Matrix{Float64}} at index [1]",
     "traceback": [
      "BoundsError: attempt to access 0-element Vector{Matrix{Float64}} at index [1]",
      "",
      "Stacktrace:",
      "  [1] getindex",
      "    @ .\\array.jl:801 [inlined]",
      "  [2] MLE_errors(B::Vector{Float64}, X::Vector{Matrix{Float64}}, parameters::Vector{Float64})",
      "    @ DiffusionMLE c:\\Users\\User\\OneDrive\\Documents\\Python Programs\\Piezo1_MLE\\DiffusionMLE\\src\\mle_functions.jl:104",
      "  [3] (::var\"#3#4\")(k::Int64)",
      "    @ Main .\\none:0",
      "  [4] iterate",
      "    @ .\\generator.jl:47 [inlined]",
      "  [5] collect_to!(dest::Vector{Vector{Float64}}, itr::Base.Generator{UnitRange{Int64}, var\"#3#4\"}, offs::Int64, st::Int64)",
      "    @ Base .\\array.jl:724",
      "  [6] collect_to_with_first!(dest::Vector{Vector{Float64}}, v1::Vector{Float64}, itr::Base.Generator{UnitRange{Int64}, var\"#3#4\"}, st::Int64)",
      "    @ Base .\\array.jl:702",
      "  [7] collect(itr::Base.Generator{UnitRange{Int64}, var\"#3#4\"})",
      "    @ Base .\\array.jl:683",
      "  [8] top-level scope",
      "    @ In[8]:2",
      "  [9] eval",
      "    @ .\\boot.jl:360 [inlined]",
      " [10] include_string(mapexpr::typeof(REPL.softscope), mod::Module, code::String, filename::String)",
      "    @ Base .\\loading.jl:1094"
     ]
    }
   ],
   "metadata": {}
  },
  {
   "cell_type": "code",
   "execution_count": 13,
   "source": [
    "mob_data"
   ],
   "outputs": [
    {
     "output_type": "execute_result",
     "data": {
      "text/plain": [
       "3345-element Vector{Matrix{Float64}}:\n",
       " [38.03921533198764 91.0106436419909; 38.09617753579804 91.00776183247646; … ; 38.66832991678541 91.03632763906067; 38.671069731886114 91.02072798480471]\n",
       " [52.30472173254977 93.76520392993226; 52.27783483328655 93.77576881939284; … ; 52.80411617421224 92.2611833862967; 52.8178544305479 92.20082214711363]\n",
       " [58.18545736344977 26.658555290703173; 58.16101127467751 26.60920696440354; … ; 57.71826713595652 25.462453963997746; 57.59620326290387 25.574767335748398]\n",
       " [68.02567255279081 55.05453029482074; 68.00926060531117 55.06106059930411; … ; 68.5030866291064 54.31561589602916; 68.5704694825362 54.32097210396887]\n",
       " [76.20040871000602 65.1557582450138; 76.15665586216313 65.15185150840257; … ; 76.06187844431993 66.0975418640479; 76.199015022925 66.09986918012656]\n",
       " [78.32558785296726 76.38300702927226; 78.31922156488538 76.42961738719461; … ; 76.61759440163108 76.41180164687391; 76.56515461585094 76.67223407285297]\n",
       " [78.86439042069273 89.61838701846666; 78.88916649165577 89.63596350739806; … ; 79.2369851176495 89.28974524948887; 79.14685497624941 89.29094414406431]\n",
       " [84.7360881681909 72.95386281196504; 84.71938291155493 72.92903729007169; … ; 85.52838395583522 72.25411038884249; 85.451567998259 72.06207549319848]\n",
       " [86.70481661797577 42.38183737255485; 86.69293500108547 42.43617107250009; … ; 86.7374482254968 43.07600369503554; 86.4522082863119 43.06448444181015]\n",
       " [92.79819827526701 55.825293197298684; 92.76937084225845 55.883306331466784; … ; 92.15908127441291 55.69845653159115; 92.16327423624398 55.662878829615664]\n",
       " [65.07015900670697 53.76494524771823; 65.21385219235192 53.90829858362539; … ; 66.44935172772462 54.98643219082342; 66.24707001456692 55.0001838121988]\n",
       " [28.167665570401788 52.907161599999306; 28.145216537056704 52.970431542491816; … ; 28.22563143116515 52.14032825188059; 28.1372387439014 52.00526492205354]\n",
       " [67.34429189855292 46.57375120907383; 67.52219229393589 46.62038995964951; … ; 67.45796623199921 46.9177045518435; 67.41054418811709 46.96345196622494]\n",
       " ⋮\n",
       " [0.0 0.0; 0.0053482827794726065 0.30954930752666127; … ; 0.2603284794929318 -1.0126875507039559; 0.2855786901402714 -1.0007115543011544]\n",
       " [0.0 0.0; -0.009678384662422514 -0.1117017770872958; … ; -0.6079495630262945 -1.6527795320916472; -0.5617927565557965 -1.5958623643055174]\n",
       " [0.0 0.0; 0.04363237630164199 -0.04641883658362935; … ; 0.08861616774870268 -0.09949703044592402; 0.060656242174826416 -0.1774669455128294]\n",
       " [0.0 0.0; -0.08882933921207574 -0.002048265657325442; … ; -1.6103430953840394 -0.6979615510237102; -1.5125858631947733 -0.7552815336746357]\n",
       " [0.0 0.0; -0.024242042674126378 0.047740816891409216; … ; 0.6392273187658166 0.4442032195275945; 0.6691540931625682 0.4482716796654081]\n",
       " [0.0 0.0; 0.08192614775326988 0.16291819107138492; … ; 0.21863930444931168 -0.21705945474932906; 0.2829057376278626 -0.256413063728094]\n",
       " [0.0 0.0; 0.02996387008655572 -0.006039761686033353; … ; -2.5644048632625633 -0.06423469047886786; -2.3980827797761326 -0.13318038918060462]\n",
       " [0.0 0.0; 0.0821829712181896 0.05107550199700593; … ; 0.1744382541283114 1.338025833852377; 0.16814345567214045 1.2132037028247822]\n",
       " [0.0 0.0; 0.013908885226664234 -0.04195303812489256; … ; -1.0666899829118912 0.4263918192007644; -1.0091246231096849 0.3637390957952461]\n",
       " [0.0 0.0; 0.054884997731040996 0.10031847221356194; … ; 1.2827067798319212 -2.199578225384468; 1.1477570431718658 -2.2326954120739644]\n",
       " [0.0 0.0; -0.003947658202799903 0.004485059788375702; … ; -0.22029673861582894 0.4298351451008167; -0.2691718032236523 0.4284445995571588]\n",
       " [0.0 0.0; 0.018578902599454706 0.04004945118250178; … ; 0.20698566780888186 -2.440214254462528; 0.1705497958593274 -2.4141642539441692]"
      ]
     },
     "metadata": {},
     "execution_count": 13
    }
   ],
   "metadata": {}
  },
  {
   "cell_type": "code",
   "execution_count": 19,
   "source": [
    "data[[1]]"
   ],
   "outputs": [
    {
     "output_type": "execute_result",
     "data": {
      "text/plain": [
       "1-element Vector{Matrix{Float64}}:\n",
       " [-0.2736163995431172 -0.1051718290530699; 0.6901288696997122 0.3147046597626799; … ; -2.347536267704408 0.055304819967828656; -2.7614535527513286 0.9422712899779128]"
      ]
     },
     "metadata": {},
     "execution_count": 19
    }
   ],
   "metadata": {}
  },
  {
   "cell_type": "code",
   "execution_count": 18,
   "source": [
    "mob_data[[1]]"
   ],
   "outputs": [
    {
     "output_type": "execute_result",
     "data": {
      "text/plain": [
       "1-element Vector{Matrix{Float64}}:\n",
       " [38.03921533198764 91.0106436419909; 38.09617753579804 91.00776183247646; … ; 38.66832991678541 91.03632763906067; 38.671069731886114 91.02072798480471]"
      ]
     },
     "metadata": {},
     "execution_count": 18
    }
   ],
   "metadata": {}
  },
  {
   "cell_type": "code",
   "execution_count": null,
   "source": [],
   "outputs": [],
   "metadata": {}
  }
 ],
 "metadata": {
  "kernelspec": {
   "display_name": "Julia 1.6.1",
   "language": "julia",
   "name": "julia-1.6"
  },
  "language_info": {
   "file_extension": ".jl",
   "mimetype": "application/julia",
   "name": "julia",
   "version": "1.6.1"
  }
 },
 "nbformat": 4,
 "nbformat_minor": 4
}