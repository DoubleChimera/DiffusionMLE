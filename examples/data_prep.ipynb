{
 "cells": [
  {
   "cell_type": "code",
   "execution_count": 1,
   "metadata": {},
   "outputs": [],
   "source": [
    "import flika_JSON_io as flikaIO\r\n",
    "from pathlib import Path\r\n",
    "import pandas as pd"
   ]
  },
  {
   "cell_type": "markdown",
   "metadata": {},
   "source": [
    "## This notebook was used to take SVM4 classified JSON outputs for each condition and generate trajectory class specific .csv's for import into the MLE function by Bullerjahn & Hummer 2020."
   ]
  },
  {
   "cell_type": "code",
   "execution_count": 2,
   "metadata": {},
   "outputs": [],
   "source": [
    "def gen_single_condition_df(input_dir, inputf_mob, inputf_conf, inputf_trap, inputf_mobconf, exp_label, pixel_width=0.1092):\r\n",
    "    mobile = (Path(input_dir) / inputf_mob)\r\n",
    "    confined = (Path(input_dir) / inputf_conf)\r\n",
    "    trapped = (Path(input_dir) / inputf_trap)\r\n",
    "    mob_conf = (Path(input_dir) / inputf_mobconf)\r\n",
    "\r\n",
    "    file_list = [mobile, confined, trapped, mob_conf]\r\n",
    "    file_labels = ['mobile', 'confined', 'trapped', 'mob_conf']\r\n",
    "\r\n",
    "    dfs = {}\r\n",
    "    for i, indiv_file in enumerate(file_list):\r\n",
    "        temp_df = flikaIO.json_to_pandas([indiv_file], [exp_label])\r\n",
    "        temp_df['TrajClass'] = file_labels[i]\r\n",
    "        temp_df['X'] *= pixel_width\r\n",
    "        temp_df['Y'] *= pixel_width\r\n",
    "        # write to file here\r\n",
    "        outfile = Path(input_dir) / f\"{exp_label}_{file_labels[i]}.csv\"\r\n",
    "        temp_df.to_csv(outfile, sep=',', index=False)\r\n",
    "        dfs[file_labels[i]] = temp_df\r\n",
    "    df = pd.concat(dfs, axis=0).reset_index(drop=True)\r\n",
    "    return df"
   ]
  },
  {
   "cell_type": "code",
   "execution_count": 3,
   "metadata": {},
   "outputs": [],
   "source": [
    "exp_labels = ['tdTomato_37Degree', 'tdTomato_CytoD', 'tdTomato_GsMTx4', 'tdTomato_Jasplak', 'tdTomato_MBCD', 'tdTomato_SiRActin', 'tdTomato_SiRActinCytoD', 'tdTomato_Yoda1']\r\n",
    "\r\n",
    "for exp_label in exp_labels:\r\n",
    "    if exp_label == 'tdTomato_37Degree':\r\n",
    "        track_counts = [9344, 5999, 3345, 2450]\r\n",
    "    if exp_label == 'tdTomato_CytoD':\r\n",
    "        track_counts = [6192, 3973, 2219, 1587]\r\n",
    "    if exp_label == 'tdTomato_GsMTx4':\r\n",
    "        track_counts = [2199, 1447, 752, 548]\r\n",
    "    if exp_label == 'tdTomato_Jasplak':\r\n",
    "        track_counts = [5630, 3631, 1999, 1398]\r\n",
    "    if exp_label == 'tdTomato_MBCD':\r\n",
    "        track_counts = [6467, 4087, 2380, 1832]\r\n",
    "    if exp_label == 'tdTomato_SiRActin':\r\n",
    "        track_counts = [5039, 3173, 1866, 1156]\r\n",
    "    if exp_label == 'tdTomato_SiRActinCytoD':\r\n",
    "        track_counts = [2614, 1515, 1099, 604]\r\n",
    "    if exp_label == 'tdTomato_Yoda1':\r\n",
    "        track_counts = [5907, 3953, 1954, 1491]\r\n",
    "\r\n",
    "    input_dir = r\"C:\\\\Users\\User\\\\OneDrive\\\\Documents\\\\Python Programs\\\\Piezo1_MLE\\\\Trajectory_JSONs\\\\\" + exp_label\r\n",
    "    infile_mob_conf = f'SVM4_predTrajs_{exp_label}_{str(track_counts[0])}Tracks_16APR2021_Combined_Mobile_Confined.json'\r\n",
    "    infile_confined = f'SVM4_predTrajs_{exp_label}_{str(track_counts[1])}Tracks_16APR2021_Confined.json'\r\n",
    "    infile_mobile = f'SVM4_predTrajs_{exp_label}_{str(track_counts[2])}Tracks_16APR2021_Mobile.json'\r\n",
    "    infile_trapped = f'SVM4_predTrajs_{exp_label}_{str(track_counts[3])}Tracks_16APR2021_Trapped.json'\r\n",
    "    # This function also generates the .csv files in the input directories\r\n",
    "    tdTomato_data = gen_single_condition_df(input_dir, infile_mobile, infile_confined, infile_trapped, infile_mob_conf, exp_label)"
   ]
  },
  {
   "cell_type": "code",
   "execution_count": null,
   "metadata": {},
   "outputs": [],
   "source": []
  }
 ],
 "metadata": {
  "interpreter": {
   "hash": "b3ba2566441a7c06988d0923437866b63cedc61552a5af99d1f4fb67d367b25f"
  },
  "kernelspec": {
   "display_name": "Python 3.8.8 64-bit ('base': conda)",
   "name": "python3"
  },
  "language_info": {
   "codemirror_mode": {
    "name": "ipython",
    "version": 3
   },
   "file_extension": ".py",
   "mimetype": "text/x-python",
   "name": "python",
   "nbconvert_exporter": "python",
   "pygments_lexer": "ipython3",
   "version": "3.8.8"
  },
  "orig_nbformat": 2
 },
 "nbformat": 4,
 "nbformat_minor": 2
}