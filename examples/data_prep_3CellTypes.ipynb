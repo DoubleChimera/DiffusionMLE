{
 "cells": [
  {
   "cell_type": "code",
   "execution_count": 1,
   "metadata": {},
   "outputs": [],
   "source": [
    "import flika_JSON_io as flikaIO\n",
    "from pathlib import Path\n",
    "import pandas as pd"
   ]
  },
  {
   "cell_type": "markdown",
   "metadata": {},
   "source": [
    "## This notebook was used to take SVM4 classified JSON outputs for each condition and generate trajectory class specific .csv's for import into the MLE function by Bullerjahn & Hummer 2020."
   ]
  },
  {
   "cell_type": "code",
   "execution_count": 16,
   "metadata": {},
   "outputs": [],
   "source": [
    "def gen_single_condition_df(input_dir, inputf_mob, exp_label, pixel_width=0.1092):\n",
    "    mobile = (Path(input_dir) / inputf_mob)\n",
    "\n",
    "    file_list = [mobile]\n",
    "    file_labels = ['mobile']\n",
    "\n",
    "    dfs = {}\n",
    "    for i, indiv_file in enumerate(file_list):\n",
    "        temp_df = flikaIO.json_to_pandas([indiv_file], [exp_label])\n",
    "        temp_df['TrajClass'] = file_labels[i]\n",
    "        temp_df['X'] *= pixel_width\n",
    "        temp_df['Y'] *= pixel_width\n",
    "        # Choose the first 200 frames\n",
    "        temp_df = temp_df.loc[temp_df['Frame'] <= 200]\n",
    "        # Select every other frame\n",
    "        temp_df = temp_df.iloc[::2, :]\n",
    "        # write to file here\n",
    "        outfile = Path(input_dir) / f\"{exp_label}_{file_labels[i]}_0-200frames_stride2.csv\"\n",
    "        temp_df.to_csv(outfile, sep=',', index=False)\n",
    "        dfs[file_labels[i]] = temp_df\n",
    "    df = pd.concat(dfs, axis=0).reset_index(drop=True)\n",
    "    return df"
   ]
  },
  {
   "cell_type": "code",
   "execution_count": 18,
   "metadata": {},
   "outputs": [],
   "source": [
    "exp_labels = ['tdTomato_37Degree', 'tdTomato_Degree37_Endothelials', 'tdTomato_Degree37_mNSPCs']\n",
    "\n",
    "for exp_label in exp_labels:\n",
    "    if exp_label == 'tdTomato_37Degree':\n",
    "        track_counts = [3158]\n",
    "    if exp_label == 'tdTomato_Degree37_Endothelials':\n",
    "        track_counts = [22682]\n",
    "    if exp_label == 'tdTomato_Degree37_mNSPCs':\n",
    "        track_counts = [190]\n",
    "\n",
    "    input_dir = r\"C:\\\\Users\\User\\\\OneDrive\\\\Documents\\\\Python Programs\\\\Piezo1_MLE\\\\Trajectory_JSONs\\\\SVMv7_3CellTypes_Trajectory Data\\\\\" + exp_label + r\"\\\\Mobile\\\\\"\n",
    "    infile_mobile = f'SVMv7_predTrajs_{exp_label}_{str(track_counts[0])}Tracks_15SEP2021_Mobile.json'\n",
    "    # This function also generates the .csv files in the input directories\n",
    "    tdTomato_data = gen_single_condition_df(input_dir, infile_mobile, exp_label)"
   ]
  },
  {
   "cell_type": "code",
   "execution_count": null,
   "metadata": {},
   "outputs": [],
   "source": []
  }
 ],
 "metadata": {
  "interpreter": {
   "hash": "b3ba2566441a7c06988d0923437866b63cedc61552a5af99d1f4fb67d367b25f"
  },
  "kernelspec": {
   "display_name": "Python 3.8.8 64-bit ('base': conda)",
   "name": "python3"
  },
  "language_info": {
   "codemirror_mode": {
    "name": "ipython",
    "version": 3
   },
   "file_extension": ".py",
   "mimetype": "text/x-python",
   "name": "python",
   "nbconvert_exporter": "python",
   "pygments_lexer": "ipython3",
   "version": "3.8.8"
  },
  "orig_nbformat": 2
 },
 "nbformat": 4,
 "nbformat_minor": 2
}
