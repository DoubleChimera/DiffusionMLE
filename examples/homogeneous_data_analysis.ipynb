{
 "cells": [
  {
   "cell_type": "code",
   "execution_count": null,
   "metadata": {},
   "outputs": [],
   "source": [
    "using DiffusionMLE, Plots"
   ]
  },
  {
   "cell_type": "markdown",
   "metadata": {},
   "source": [
    "# Introduction"
   ]
  },
  {
   "cell_type": "markdown",
   "metadata": {},
   "source": [
    "This is a minimal example on how to apply our maximum likelihood estimator to a set of homogeneous single-particle tracking data.  Here, \"homogeneous\" refers to the fact that the underlying diffusive dynamics is the same for all trajectories.  \n",
    "\n",
    "For more details on the theoretical framework, please refer to the associated preprint:\n",
    "> J. T. Bullerjahn and G. Hummer, \"Maximum likelihood estimates of diffusion coefficients from single-molecule tracking experiments\", https://arxiv.org/abs/2011.09955"
   ]
  },
  {
   "cell_type": "markdown",
   "metadata": {},
   "source": [
    "# Generate trajectories"
   ]
  },
  {
   "cell_type": "markdown",
   "metadata": {},
   "source": [
    "Each trajectory can be seen as a $d$-dimensional array (<code>Array{Float64,2}</code>), so the data set should be of the type <code>Array{Array{Float64,2},1}</code>.  \n",
    "\n",
    "Here, we generate mock data, made up of $M$ $d$-dimensional trajectories of different lengths $N = \\{N_{1}, N_{2}, \\dots, N_{M}\\}$.  The $N_{i}$ are distributed uniformly on the interval $[3,100]$.  "
   ]
  },
  {
   "cell_type": "code",
   "execution_count": null,
   "metadata": {},
   "outputs": [],
   "source": [
    "include(\"smeared_trajectory_integrator.jl\")\n",
    "\n",
    "const M = 1000 # Number of trajectories\n",
    "const d = 2 # Dimension of trajectories\n",
    "\n",
    "const N_sub = 100 # Number of substeps over which the trajectory is smeared out\n",
    "\n",
    "N = [ rand(3:100) for i = 1 : M ] # Array of trajectory lengths\n",
    "\n",
    "const a2 = 1.2\n",
    "const σ2 = 2.3\n",
    "\n",
    "B = [1/6 for m = 1 : M] # Array of blurring coefficients, where we have assumed a uniform illumination profile\n",
    "data = make_2D_data(N,N_sub,a2,σ2); # Mock data set"
   ]
  },
  {
   "cell_type": "markdown",
   "metadata": {},
   "source": [
    "# Analyzing the data"
   ]
  },
  {
   "cell_type": "markdown",
   "metadata": {},
   "source": [
    "### Parameter estimation"
   ]
  },
  {
   "cell_type": "code",
   "execution_count": null,
   "metadata": {
    "scrolled": true
   },
   "outputs": [],
   "source": [
    "parameters = MLE_estimator(B,data)\n",
    "uncertainties = MLE_errors(B,data,parameters)\n",
    "\n",
    "println(\"Estimates:\")\n",
    "println(string(\"a2 = \", parameters[1], \" ± \", uncertainties[1]))\n",
    "println(string(\"σ2 = \",parameters[2], \" ± \", uncertainties[2]))\n",
    "\n",
    "println()\n",
    "\n",
    "println(\"Ground truth:\")\n",
    "println(string(\"a2 = \", a2))\n",
    "println(string(\"σ2 = \", σ2))"
   ]
  },
  {
   "cell_type": "markdown",
   "metadata": {},
   "source": [
    "### Diffusion coefficients"
   ]
  },
  {
   "cell_type": "markdown",
   "metadata": {},
   "source": [
    "Diffusion coefficients can be extracted from the $\\sigma^2$-values, irrespective of the dimension $d$, as follows:\n",
    "\\begin{equation*}\n",
    "D = \\frac{\\sigma^2}{2 \\Delta t} \\, .  \n",
    "\\end{equation*}\n",
    "Here, $\\sigma$ has the same dimension as the data, i.e., if the trajectories are recorded on the nanometer scale then $[\\sigma] = \\textrm{nm}$, and $\\Delta t$ denotes the time step between two observations.  "
   ]
  },
  {
   "cell_type": "markdown",
   "metadata": {},
   "source": [
    "# Testing model assumptions"
   ]
  },
  {
   "cell_type": "markdown",
   "metadata": {},
   "source": [
    "We have assumed that the data are homogeneous.  To test this and other assumptions of our diffusion model (Gaussianity, structure of covariance matrix, etc.), we perform a quality factor analysis:"
   ]
  },
  {
   "cell_type": "code",
   "execution_count": null,
   "metadata": {},
   "outputs": [],
   "source": [
    "Q = Q_factor_analysis(B,data,parameters)\n",
    "\n",
    "println(\"Kuiper statistic:\")\n",
    "println(string(\"κ = \", Kuiper_statistic!(Q)))\n",
    "\n",
    "histogram(Q, normed=true, legend=false, \n",
    "    xlabel=\"quality factor Q\", \n",
    "    ylabel=\"probability distribution function p(Q)\")"
   ]
  },
  {
   "cell_type": "markdown",
   "metadata": {},
   "source": [
    "The uniform distribution of the quality factors, as well as the fact that the Kuiper statistic evaluates close to unity, indicate that the assumptions underlying the model are satisfied.  This is, of course, not very surprising, because the mock data was generated with said assumptions in mind.  "
   ]
  },
  {
   "cell_type": "code",
   "execution_count": null,
   "metadata": {},
   "outputs": [],
   "source": []
  }
 ],
 "metadata": {
  "kernelspec": {
   "display_name": "Julia 1.5.0",
   "language": "julia",
   "name": "julia-1.5"
  },
  "language_info": {
   "file_extension": ".jl",
   "mimetype": "application/julia",
   "name": "julia",
   "version": "1.5.0"
  }
 },
 "nbformat": 4,
 "nbformat_minor": 4
}
